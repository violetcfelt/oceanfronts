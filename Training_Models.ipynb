{
  "nbformat": 4,
  "nbformat_minor": 0,
  "metadata": {
    "colab": {
      "name": "Training_Models.ipynb",
      "provenance": [],
      "collapsed_sections": [],
      "authorship_tag": "ABX9TyMgXhHPjDLMJlSaYI/igbwN",
      "include_colab_link": true
    },
    "kernelspec": {
      "name": "python3",
      "display_name": "Python 3"
    },
    "language_info": {
      "name": "python"
    }
  },
  "cells": [
    {
      "cell_type": "markdown",
      "metadata": {
        "id": "view-in-github",
        "colab_type": "text"
      },
      "source": [
        "<a href=\"https://colab.research.google.com/github/violetcfelt/oceanfronts/blob/main/Training_Models.ipynb\" target=\"_parent\"><img src=\"https://colab.research.google.com/assets/colab-badge.svg\" alt=\"Open In Colab\"/></a>"
      ]
    },
    {
      "cell_type": "code",
      "execution_count": null,
      "metadata": {
        "id": "r4Og3ctRBK4m",
        "colab": {
          "base_uri": "https://localhost:8080/"
        },
        "outputId": "b81b58e6-d287-4b24-bc9f-cff5ffcba20e"
      },
      "outputs": [
        {
          "output_type": "stream",
          "name": "stdout",
          "text": [
            "Drive already mounted at /content/drive/; to attempt to forcibly remount, call drive.mount(\"/content/drive/\", force_remount=True).\n"
          ]
        }
      ],
      "source": [
        "import tensorflow as tf\n",
        "from google.colab import drive\n",
        "import glob\n",
        "import numpy as np\n",
        "drive.mount('/content/drive/')\n",
        "import sys\n",
        "sys.path.append('/content/drive/My Drive/Colab Notebooks/')\n",
        "from models import HED,CEDN\n",
        "from keras.callbacks import ModelCheckpoint"
      ]
    },
    {
      "cell_type": "code",
      "source": [
        "def custom_loss(logits, label):\n",
        "    \"\"\"\n",
        "    Implements Equation [2] in https://arxiv.org/pdf/1504.06375.pdf\n",
        "    \"\"\"\n",
        "    y = tf.cast(label, tf.float32)\n",
        "    count_neg = tf.reduce_sum(1. - y)\n",
        "    count_pos = tf.reduce_sum(y)\n",
        "    beta = count_neg / (count_neg + count_pos)\n",
        "    pos_weight = beta / (1 - beta)\n",
        "    cost = tf.nn.weighted_cross_entropy_with_logits(logits=logits, labels=y, pos_weight=pos_weight)\n",
        "    cost = tf.reduce_mean(cost * (1 - beta))\n",
        "    return cost"
      ],
      "metadata": {
        "id": "ewF9C-6cB4TE"
      },
      "execution_count": null,
      "outputs": []
    },
    {
      "cell_type": "code",
      "source": [
        "model = CEDN()\n",
        "print(model.summary())"
      ],
      "metadata": {
        "colab": {
          "base_uri": "https://localhost:8080/"
        },
        "id": "HZ6FZLESE_qt",
        "outputId": "72bae88c-bc9a-42cd-cfd0-58c9b1b966ff"
      },
      "execution_count": 8,
      "outputs": [
        {
          "output_type": "stream",
          "name": "stdout",
          "text": [
            "Model: \"model_1\"\n",
            "_________________________________________________________________\n",
            " Layer (type)                Output Shape              Param #   \n",
            "=================================================================\n",
            " input_4 (InputLayer)        [(None, 224, 224, 3)]     0         \n",
            "                                                                 \n",
            " block1_conv1 (Conv2D)       (None, 224, 224, 64)      1792      \n",
            "                                                                 \n",
            " block1_conv2 (Conv2D)       (None, 224, 224, 64)      36928     \n",
            "                                                                 \n",
            " block1_pool (MaxPooling2D)  (None, 112, 112, 64)      0         \n",
            "                                                                 \n",
            " block2_conv1 (Conv2D)       (None, 112, 112, 128)     73856     \n",
            "                                                                 \n",
            " block2_conv2 (Conv2D)       (None, 112, 112, 128)     147584    \n",
            "                                                                 \n",
            " block2_pool (MaxPooling2D)  (None, 56, 56, 128)       0         \n",
            "                                                                 \n",
            " block3_conv1 (Conv2D)       (None, 56, 56, 256)       295168    \n",
            "                                                                 \n",
            " block3_conv2 (Conv2D)       (None, 56, 56, 256)       590080    \n",
            "                                                                 \n",
            " block3_conv3 (Conv2D)       (None, 56, 56, 256)       590080    \n",
            "                                                                 \n",
            " block3_pool (MaxPooling2D)  (None, 28, 28, 256)       0         \n",
            "                                                                 \n",
            " block4_conv1 (Conv2D)       (None, 28, 28, 512)       1180160   \n",
            "                                                                 \n",
            " block4_conv2 (Conv2D)       (None, 28, 28, 512)       2359808   \n",
            "                                                                 \n",
            " block4_conv3 (Conv2D)       (None, 28, 28, 512)       2359808   \n",
            "                                                                 \n",
            " block4_pool (MaxPooling2D)  (None, 14, 14, 512)       0         \n",
            "                                                                 \n",
            " block5_conv1 (Conv2D)       (None, 14, 14, 512)       2359808   \n",
            "                                                                 \n",
            " block5_conv2 (Conv2D)       (None, 14, 14, 512)       2359808   \n",
            "                                                                 \n",
            " block5_conv3 (Conv2D)       (None, 14, 14, 512)       2359808   \n",
            "                                                                 \n",
            " block5_pool (MaxPooling2D)  (None, 7, 7, 512)         0         \n",
            "                                                                 \n",
            " conv2d_6 (Conv2D)           (None, 7, 7, 4096)        18878464  \n",
            "                                                                 \n",
            " conv2d_transpose_5 (Conv2DT  (None, 7, 7, 512)        2097664   \n",
            " ranspose)                                                       \n",
            "                                                                 \n",
            " conv2d_transpose_6 (Conv2DT  (None, 7, 7, 256)        3277056   \n",
            " ranspose)                                                       \n",
            "                                                                 \n",
            " conv2d_transpose_7 (Conv2DT  (None, 7, 7, 128)        819328    \n",
            " ranspose)                                                       \n",
            "                                                                 \n",
            " conv2d_transpose_8 (Conv2DT  (None, 7, 7, 64)         204864    \n",
            " ranspose)                                                       \n",
            "                                                                 \n",
            " conv2d_transpose_9 (Conv2DT  (None, 7, 7, 32)         51232     \n",
            " ranspose)                                                       \n",
            "                                                                 \n",
            " conv2d_transpose_10 (Conv2D  (None, 7, 7, 2)          1602      \n",
            " Transpose)                                                      \n",
            "                                                                 \n",
            "=================================================================\n",
            "Total params: 40,044,898\n",
            "Trainable params: 25,330,210\n",
            "Non-trainable params: 14,714,688\n",
            "_________________________________________________________________\n",
            "None\n"
          ]
        }
      ]
    },
    {
      "cell_type": "code",
      "source": [
        "model.compile(loss=custom_loss) #need the custom loss because of our weird output\n",
        "# loss=tf.nn.sigmoid_cross_entropy_with_logits for CEDN"
      ],
      "metadata": {
        "id": "LrKllCEIDKDH"
      },
      "execution_count": null,
      "outputs": []
    },
    {
      "cell_type": "code",
      "source": [
        "scene_list = set()\n",
        "for file in glob.glob(\"/content/drive/My Drive/pacific_train/*.npy\"):\n",
        "  substr = file.split('/')[-1].rsplit('_', 1)[0]\n",
        "  if \"output\" not in substr:\n",
        "    scene_list.add(substr)\n",
        "\n",
        "print(scene_list)\n",
        "print(len(scene_list))"
      ],
      "metadata": {
        "colab": {
          "base_uri": "https://localhost:8080/"
        },
        "id": "AGYP2Cn78wMA",
        "outputId": "8acddbfa-9187-4d5b-f8ca-70cf25544377"
      },
      "execution_count": null,
      "outputs": [
        {
          "output_type": "stream",
          "name": "stdout",
          "text": [
            "{'LC08_042037_20191012', 'LC08_040038_20171024', 'LC08_039040_20210113', 'LC08_001084_20180908', 'LC08_044035_20200302', 'LC08_042037_20171006', 'LC08_042037_20191231', 'LC08_043036_20171130', 'LC08_047031_20191031', 'LC08_001084_20180127', 'LC08_036043_20190324', 'LC08_038041_20200104', 'LC08_040038_20201219', 'LC08_042037_20201115', 'LC08_001084_20200406', 'LC08_106037_20170430', 'LC08_040038_20201203', 'LC08_112040_20170219', 'LC08_040038_20181112', 'LC08_042037_20181228', 'LC08_042037_20201014', 'LC08_042037_20201201', 'LC08_046033_20171205', 'LC08_043036_20171013', 'LC08_045034_20210920', 'LC08_036043_20190119', 'LC08_001084_20180417', 'LC08_043036_20211125', 'LC08_044035_20180209', 'LC08_046033_20201026', 'LC08_040038_20210221', 'LC08_047031_20181012', 'LC08_001084_20191130', 'LC08_038043_20200104', 'LC08_044035_20181108', 'LC08_038041_20210327', 'LC08_046033_20180207', 'LC08_001084_20210220', 'LC08_044035_20190924', 'LC08_001084_20181026', 'LC08_044035_20181007', 'LC08_039040_20210302', 'LC08_040038_20180128', 'LC08_001084_20180212', 'LC08_005083_20181107', 'LC08_044035_20211015'}\n",
            "46\n"
          ]
        }
      ]
    },
    {
      "cell_type": "code",
      "source": [
        "scene_list = list(scene_list)\n",
        "X_train = np.empty((len(scene_list),224,224,3),dtype=np.float32)\n",
        "Y_train = np.empty((len(scene_list),224,224,2),dtype=np.float32)\n",
        "for scene_num in range(len(scene_list)):\n",
        "  X_train[scene_num] = np.load('/content/drive/My Drive/pacific_train/' + scene_list[scene_num] + '_input.npy')[:,:,1:4]\n",
        "  Y_train[scene_num] = np.load('/content/drive/My Drive/pacific_train/' + scene_list[scene_num] + '_output_binary.npy')"
      ],
      "metadata": {
        "id": "FUNnntrM88IN"
      },
      "execution_count": null,
      "outputs": []
    },
    {
      "cell_type": "code",
      "source": [
        "print(X_train[0][5][0][0])"
      ],
      "metadata": {
        "colab": {
          "base_uri": "https://localhost:8080/"
        },
        "id": "97z8GuXR95DH",
        "outputId": "31763c6e-f2db-44c7-d28b-05cb15effba4"
      },
      "execution_count": null,
      "outputs": [
        {
          "output_type": "stream",
          "name": "stdout",
          "text": [
            "65.0\n"
          ]
        }
      ]
    },
    {
      "cell_type": "code",
      "source": [
        "from tensorflow.keras.applications.vgg16 import preprocess_input\n",
        "\n",
        "X_train = preprocess_input(X_train)"
      ],
      "metadata": {
        "id": "OUYWHHJdHLWG"
      },
      "execution_count": null,
      "outputs": []
    },
    {
      "cell_type": "code",
      "source": [
        "print(X_train[0][5][0][0])"
      ],
      "metadata": {
        "colab": {
          "base_uri": "https://localhost:8080/"
        },
        "id": "Fvsk3VTyHSs8",
        "outputId": "1b90db29-bbf9-416a-bad1-9f46ac23c1e7"
      },
      "execution_count": null,
      "outputs": [
        {
          "output_type": "stream",
          "name": "stdout",
          "text": [
            "-55.939003\n"
          ]
        }
      ]
    },
    {
      "cell_type": "code",
      "source": [
        "checkpoint = ModelCheckpoint(\"/content/drive/My Drive/best_model.hdf5\", monitor='loss', verbose=1, save_best_only=True)\n",
        "history = model.fit(X_train, Y_train, epochs=10, callbacks=[checkpoint])"
      ],
      "metadata": {
        "colab": {
          "base_uri": "https://localhost:8080/"
        },
        "id": "lieCo_r69_Fc",
        "outputId": "249f7336-c549-4c40-a163-c424d3a5cf95"
      },
      "execution_count": null,
      "outputs": [
        {
          "output_type": "stream",
          "name": "stdout",
          "text": [
            "Epoch 1/10\n",
            "2/2 [==============================] - ETA: 0s - loss: 0.3466 \n",
            "Epoch 1: loss improved from inf to 0.34663, saving model to /content/drive/My Drive/best_model.hdf5\n",
            "2/2 [==============================] - 53s 16s/step - loss: 0.3466\n",
            "Epoch 2/10\n",
            "2/2 [==============================] - ETA: 0s - loss: 0.3437 \n",
            "Epoch 2: loss improved from 0.34663 to 0.34374, saving model to /content/drive/My Drive/best_model.hdf5\n",
            "2/2 [==============================] - 53s 18s/step - loss: 0.3437\n",
            "Epoch 3/10\n",
            "2/2 [==============================] - ETA: 0s - loss: 0.3437 \n",
            "Epoch 3: loss improved from 0.34374 to 0.34374, saving model to /content/drive/My Drive/best_model.hdf5\n",
            "2/2 [==============================] - 52s 17s/step - loss: 0.3437\n",
            "Epoch 4/10\n",
            "2/2 [==============================] - ETA: 0s - loss: 0.3437 \n",
            "Epoch 4: loss improved from 0.34374 to 0.34374, saving model to /content/drive/My Drive/best_model.hdf5\n",
            "2/2 [==============================] - 54s 17s/step - loss: 0.3437\n",
            "Epoch 5/10\n",
            "2/2 [==============================] - ETA: 0s - loss: 0.3437 \n",
            "Epoch 5: loss did not improve from 0.34374\n",
            "2/2 [==============================] - 50s 15s/step - loss: 0.3437\n",
            "Epoch 6/10\n",
            "2/2 [==============================] - ETA: 0s - loss: 0.3437 \n",
            "Epoch 6: loss did not improve from 0.34374\n",
            "2/2 [==============================] - 49s 15s/step - loss: 0.3437\n",
            "Epoch 7/10\n",
            "2/2 [==============================] - ETA: 0s - loss: 0.3437 \n",
            "Epoch 7: loss did not improve from 0.34374\n",
            "2/2 [==============================] - 50s 15s/step - loss: 0.3437\n",
            "Epoch 8/10\n",
            "2/2 [==============================] - ETA: 0s - loss: 0.3437 \n",
            "Epoch 8: loss improved from 0.34374 to 0.34374, saving model to /content/drive/My Drive/best_model.hdf5\n",
            "2/2 [==============================] - 51s 16s/step - loss: 0.3437\n",
            "Epoch 9/10\n",
            "2/2 [==============================] - ETA: 0s - loss: 0.3167 \n",
            "Epoch 9: loss improved from 0.34374 to 0.31673, saving model to /content/drive/My Drive/best_model.hdf5\n",
            "2/2 [==============================] - 51s 17s/step - loss: 0.3167\n",
            "Epoch 10/10\n",
            "2/2 [==============================] - ETA: 0s - loss: 0.2579 \n",
            "Epoch 10: loss improved from 0.31673 to 0.25786, saving model to /content/drive/My Drive/best_model.hdf5\n",
            "2/2 [==============================] - 51s 16s/step - loss: 0.2579\n"
          ]
        }
      ]
    },
    {
      "cell_type": "code",
      "source": [
        "print(history.params)"
      ],
      "metadata": {
        "colab": {
          "base_uri": "https://localhost:8080/"
        },
        "id": "CCoTOccC-3LH",
        "outputId": "bec2bbc0-6549-47df-b613-294076c04e60"
      },
      "execution_count": null,
      "outputs": [
        {
          "output_type": "stream",
          "name": "stdout",
          "text": [
            "{'verbose': 1, 'epochs': 25, 'steps': 2}\n"
          ]
        }
      ]
    },
    {
      "cell_type": "code",
      "source": [
        "print(history.history.keys())"
      ],
      "metadata": {
        "colab": {
          "base_uri": "https://localhost:8080/"
        },
        "id": "iNP554xILnlh",
        "outputId": "36cfb630-9e5e-49f5-b38a-6ef4094a60ef"
      },
      "execution_count": null,
      "outputs": [
        {
          "output_type": "stream",
          "name": "stdout",
          "text": [
            "dict_keys(['loss'])\n"
          ]
        }
      ]
    },
    {
      "cell_type": "code",
      "source": [
        "print(history.history['loss'])"
      ],
      "metadata": {
        "colab": {
          "base_uri": "https://localhost:8080/"
        },
        "id": "Df8AcuZ6-bAG",
        "outputId": "1e940ab4-b5b9-4d68-9123-286f9205d27e"
      },
      "execution_count": null,
      "outputs": [
        {
          "output_type": "stream",
          "name": "stdout",
          "text": [
            "[0.3096132278442383, 0.1656474620103836, 0.07818718254566193, 0.00244093406945467, 0.04042873531579971, 0.0015509966760873795, 0.0019418841693550348, 0.025605984032154083, 0.002032968681305647, 0.0010171903995797038, 0.0010769999353215098, 0.0007308431668207049, 4.029367119073868e-05, 2.4122680770233274e-05, 2.0411540390341543e-05, 1.82090461748885e-05, 1.6470839909743518e-05, 1.4938166714273393e-05, 1.3560455954575446e-05, 1.2127452464483213e-05, 9.931731256074272e-06, 4.882707344222581e-06, 2.4785963432805147e-06, 1.7243453385162866e-06, 1.3439500889944611e-06, 1.07341008970252e-06, 9.10563528577768e-07, 7.663498422516568e-07, 6.585956953131245e-07, 5.682373398485652e-07, 5.169077326172555e-07, 4.813848022422462e-07, 4.336783945291245e-07, 3.8380755995603977e-07, 3.565952511053183e-07, 3.2618359568914457e-07, 3.1271110856323503e-07, 2.594748877982056e-07, 2.4830865186231676e-07, 2.2302208435576176e-07, 2.139738910500455e-07, 1.7984517342028994e-07, 1.7195367263411754e-07, 1.6469974184474268e-07, 1.582101987196438e-07, 1.371116269410777e-07, 1.2126444914883905e-07, 1.2658452419600508e-07, 9.638848297299774e-08, 9.224757491210767e-08, 8.836497045194847e-08, 8.471737800164192e-08, 8.138508178490156e-08, 7.837893178930244e-08, 7.557333958629897e-08, 7.292626946764358e-08, 7.056551254436272e-08, 6.840215860393073e-08, 6.641407424012868e-08, 4.928185859398582e-08, 6.286545328748616e-08, 3.560625216891822e-08, 4.4561204504134366e-08, 1.7522127748748062e-08, 1.62678581716591e-08, 1.509393321441621e-08, 1.401375371301583e-08, 1.302361596344781e-08, 1.2132435500689098e-08, 1.1310142156162328e-08, 1.0538743211441215e-08, 9.809861367671147e-09, 9.131801981254739e-09, 8.489521974297531e-09, 7.903774523754237e-09, 7.358392117851054e-09, 6.862305834687277e-09, 6.395101781464518e-09, 5.970950844869094e-09, 5.583283613219692e-09, 5.215610610065369e-09, 4.88130558196076e-09, 4.568212474964639e-09, 4.2695078583676604e-09, 4.006198928152571e-09, 3.762815836694244e-09, 3.531219094909943e-09, 3.3104259333782693e-09, 3.104490886585154e-09, 2.9181728145033503e-09, 2.7412982994690083e-09, 2.5722237673164727e-09, 2.42113462611826e-09, 2.280941879817533e-09, 2.149383115934711e-09, 2.0233559272497814e-09, 1.9025758746238353e-09, 1.791159776054485e-09, 1.6884889042501072e-09, 1.5902492656039158e-09]\n"
          ]
        }
      ]
    },
    {
      "cell_type": "code",
      "source": [
        "from matplotlib import pyplot as plt\n",
        "\n",
        "plt.plot(history.history['loss'], label = 'output loss')\n",
        "# plt.plot(history.history['conv2d_transpose_5_loss'], label = 'side loss 1')\n",
        "# plt.plot(history.history['conv2d_transpose_6_loss'], label = 'side loss 2')\n",
        "# plt.plot(history.history['conv2d_transpose_7_loss'], label = 'side loss 3')\n",
        "# plt.plot(history.history['conv2d_transpose_8_loss'], label = 'side loss 4')\n",
        "# plt.plot(history.history['conv2d_transpose_9_loss'], label = 'side loss 5')\n",
        "plt.legend()\n",
        "plt.title('Loss During Training')"
      ],
      "metadata": {
        "colab": {
          "base_uri": "https://localhost:8080/",
          "height": 299
        },
        "id": "dGJbzCX7-eeN",
        "outputId": "4c927d77-2473-48aa-bb70-be0a1e2580b3"
      },
      "execution_count": null,
      "outputs": [
        {
          "output_type": "execute_result",
          "data": {
            "text/plain": [
              "Text(0.5, 1.0, 'Loss During Training')"
            ]
          },
          "metadata": {},
          "execution_count": 13
        },
        {
          "output_type": "display_data",
          "data": {
            "image/png": "[encoded data removed]",
            "text/plain": [
              "<Figure size 432x288 with 1 Axes>"
            ]
          },
          "metadata": {
            "needs_background": "light"
          }
        }
      ]
    },
    {
      "cell_type": "code",
      "source": [
        "plt.plot(history.history['conv2d_37_binary_accuracy'], label = 'output accuracy')\n",
        "plt.plot(history.history['conv2d_transpose_5_binary_accuracy'], label = 'side accuracy 1')\n",
        "plt.plot(history.history['conv2d_transpose_6_binary_accuracy'], label = 'side accuracy 2')\n",
        "plt.plot(history.history['conv2d_transpose_7_binary_accuracy'], label = 'side accuracy 3')\n",
        "plt.plot(history.history['conv2d_transpose_8_binary_accuracy'], label = 'side accuracy 4')\n",
        "plt.plot(history.history['conv2d_transpose_9_binary_accuracy'], label = 'side accuracy 5')\n",
        "plt.legend()\n",
        "plt.title('Accuracy During Training')"
      ],
      "metadata": {
        "colab": {
          "base_uri": "https://localhost:8080/",
          "height": 298
        },
        "id": "TyxWmG324HCz",
        "outputId": "059805f8-ec1d-4ddc-9e28-dbaff619582f"
      },
      "execution_count": null,
      "outputs": [
        {
          "output_type": "execute_result",
          "data": {
            "text/plain": [
              "Text(0.5, 1.0, 'Accuracy During Training')"
            ]
          },
          "metadata": {},
          "execution_count": 26
        },
        {
          "output_type": "display_data",
          "data": {
            "image/png": "[encoded data removed]",
            "text/plain": [
              "<Figure size 432x288 with 1 Axes>"
            ]
          },
          "metadata": {
            "needs_background": "light"
          }
        }
      ]
    },
    {
      "cell_type": "code",
      "source": [
        ""
      ],
      "metadata": {
        "id": "6Q0BjL6-5aMG"
      },
      "execution_count": null,
      "outputs": []
    }
  ]
}