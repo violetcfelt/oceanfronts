{
  "cells": [
    {
      "cell_type": "markdown",
      "metadata": {
        "id": "view-in-github",
        "colab_type": "text"
      },
      "source": [
        "<a href=\"https://colab.research.google.com/github/violetcfelt/oceanfronts/blob/main/CreatingGroundTruths.ipynb\" target=\"_parent\"><img src=\"https://colab.research.google.com/assets/colab-badge.svg\" alt=\"Open In Colab\"/></a>"
      ]
    },
    {
      "cell_type": "code",
      "execution_count": null,
      "metadata": {
        "colab": {
          "base_uri": "https://localhost:8080/"
        },
        "id": "2VoV3EEm2NCD",
        "outputId": "93fd5674-9b8c-4018-a575-f5360d3fae02"
      },
      "outputs": [
        {
          "output_type": "stream",
          "name": "stdout",
          "text": [
            "Mounted at /content/drive/\n"
          ]
        }
      ],
      "source": [
        "from google.colab import drive\n",
        "import numpy as np\n",
        "import matplotlib.pyplot as plt\n",
        "import glob\n",
        "import cv2 as cv\n",
        "drive.mount('/content/drive/')"
      ]
    },
    {
      "cell_type": "code",
      "execution_count": null,
      "metadata": {
        "id": "gZqN2Iya3R-3"
      },
      "outputs": [],
      "source": [
        "#crop all images to same size, save as numpy arrays\n",
        "min_dim = 256\n",
        "# for file in glob.glob(\"/content/drive/My Drive/test/*.tif\"):\n",
        "#    a = plt.imread(file)\n",
        "#    min_dim = min(min_dim,a.shape[0],a.shape[1])\n",
        "# print('Min Dim: ', min_dim)\n",
        "\n",
        "for file in glob.glob(\"/content/drive/My Drive/test/*.tif\"):\n",
        "    a = plt.imread(file)\n",
        "    left = int(np.floor((a.shape[0] - min_dim)/2))\n",
        "    top = int(np.floor((a.shape[1] - min_dim)/2))\n",
        "    right = int(np.floor((a.shape[0] + min_dim)/2))\n",
        "    bottom = int(np.floor((a.shape[1] + min_dim)/2))\n",
        "    a = a[left:right,top:bottom]\n",
        "    np.save('/content/drive/My Drive/east_cropped/' + file.split(\"/\")[-1][:-4] + '.npy', a)\n",
        "    plt.imsave('/content/drive/My Drive/east_cropped/' + file.split(\"/\")[-1][:-4] + '.png', a)"
      ]
    },
    {
      "cell_type": "code",
      "execution_count": null,
      "metadata": {
        "colab": {
          "base_uri": "https://localhost:8080/"
        },
        "id": "JlSwX8E-I4x-",
        "outputId": "7ff038b7-2d72-4fb5-dd08-0d9fc92a2e76"
      },
      "outputs": [
        {
          "output_type": "stream",
          "name": "stdout",
          "text": [
            "{'LC08_009030_20150924', 'LC08_011032_20211109', 'LC08_013033_20160330', 'LC08_012032_20151116', 'LC08_015037_20181012', 'LC08_010029_20140928', 'LC08_015037_20141017', 'LC08_016040_20180309', 'LC08_008030_20180824', 'LC08_012031_20160424', 'LC08_013033_20171027', 'LC08_013033_20200222', 'LC08_011030_20180423', 'LC08_014036_20191125', 'LC08_012030_20180719', 'LC08_010029_20180923', 'LC08_008030_20140306', 'LC08_009029_20130918', 'LC08_012032_20200318', 'LC08_008030_20190405', 'LC08_011032_20210226', 'LC08_016038_20180309', 'LC08_011031_20151109', 'LC08_010029_20190825', 'LC08_013033_20190830', 'LC08_012031_20190417', 'LC08_009029_20170913', 'LC08_014034_20141026', 'LC08_012032_20140403', 'LC08_011030_20180829', 'LC08_008030_20150325', 'LC08_011031_20210330', 'LC08_015037_20131217', 'LC08_012032_20201129', 'LC08_014036_20210404', 'LC08_012031_20140825', 'LC08_016038_20200126', 'LC08_011030_20150906', 'LC08_014036_20141026', 'LC08_011030_20160823', 'LC08_014034_20170409', 'LC08_011031_20150906', 'LC08_011031_20180423', 'LC08_012031_20171020', 'LC08_011029_20140919', 'LC08_011032_20180423', 'LC08_016039_20180309', 'LC08_009030_20170913', 'LC08_009030_20130918', 'LC08_011031_20160823', 'LC08_015037_20130402', 'LC08_014036_20210927', 'LC08_011030_20211109', 'LC08_011030_20151109', 'LC08_011029_20180914', 'LC08_011030_20210330', 'LC08_015037_20171025', 'LC08_015037_20180302', 'LC08_009030_20190327', 'LC08_014033_20210927', 'LC08_012032_20130502', 'LC08_013035_20131219', 'LC08_014033_20160406', 'LC08_011029_20150906', 'LC08_013041_20210413', 'LC08_009029_20200921', 'LC08_013033_20160415', 'LC08_015041_20210105', 'LC08_008030_20170415', 'LC08_014036_20161116', 'LC08_014036_20151114', 'LC08_011032_20200311', 'LC08_013035_20161024', 'LC08_009029_20190802', 'LC08_014033_20171018', 'LC08_011030_20210517', 'LC08_012032_20140825', 'LC08_016039_20130328', 'LC08_015037_20211020', 'LC08_012032_20171020', 'LC08_010029_20180331', 'LC08_011030_20181016', 'LC08_012032_20160424', 'LC08_014036_20200417', 'LC08_012032_20140809', 'LC08_013033_20170418', 'LC08_009030_20200820', 'LC08_012032_20141113', 'LC08_016038_20140517', 'LC08_014034_20130414', 'LC08_009030_20140905', 'LC08_009030_20160809', 'LC08_013033_20140410', 'LC08_011032_20210330', 'LC08_014036_20211130', 'LC08_012032_20210321', 'LC08_011032_20200224'}\n",
            "97\n"
          ]
        }
      ],
      "source": [
        "#MANUALLY REMOVE IMAGES WITH LAND IN THEM!!\n",
        "\n",
        "scene_list = set()\n",
        "for file in glob.glob(\"/content/drive/My Drive/east_cropped/*.png\"):\n",
        "   scene_list.add(file.split('/')[-1].rsplit('_', 1)[0])\n",
        "\n",
        "print(scene_list)\n",
        "print(len(scene_list))\n",
        "\n",
        "#temporary manually set\n",
        "# scene_list = {'LC08_013035_20161024', 'LC08_013035_20131219'}"
      ]
    },
    {
      "cell_type": "code",
      "source": [
        "scene_list = set()\n",
        "for file in glob.glob(\"/content/drive/My Drive/east_training/*.npy\"):\n",
        "   scene_list.add(file.split('/')[-1].rsplit('_', 1)[0])\n",
        "\n",
        "print(scene_list)\n",
        "print(len(scene_list))"
      ],
      "metadata": {
        "colab": {
          "base_uri": "https://localhost:8080/"
        },
        "id": "iBmTn-jPtXu4",
        "outputId": "317e61aa-ffed-48ac-e900-f45093744946"
      },
      "execution_count": null,
      "outputs": [
        {
          "output_type": "stream",
          "name": "stdout",
          "text": [
            "{'LC08_011030_20180829', 'LC08_011030_20211109', 'LC08_011030_20151109', 'LC08_013035_20161024', 'LC08_011032_20200224', 'LC08_011030_20210330', 'LC08_008030_20150325', 'LC08_015037_20131217', 'LC08_012032_20201129', 'LC08_011030_20210517', 'LC08_011032_20211109', 'LC08_015037_20171025', 'LC08_013033_20160330', 'LC08_012032_20151116', 'LC08_016039_20130328', 'LC08_015037_20211020', 'LC08_012032_20140825', 'LC08_015037_20180302', 'LC08_016038_20200126', 'LC08_012032_20171020', 'LC08_015037_20181012', 'LC08_015037_20141017', 'LC08_008030_20180824', 'LC08_011030_20150906', 'LC08_011030_20181016', 'LC08_011030_20160823', 'LC08_012032_20160424', 'LC08_012032_20140809', 'LC08_013033_20200222', 'LC08_013033_20170418', 'LC08_011030_20180423', 'LC08_012032_20130502', 'LC08_012032_20141113', 'LC08_013035_20131219', 'LC08_016038_20140517', 'LC08_013041_20210413', 'LC08_008030_20140306', 'LC08_013033_20160415', 'LC08_011032_20180423', 'LC08_012032_20200318', 'LC08_011032_20210226', 'LC08_008030_20190405', 'LC08_008030_20170415', 'LC08_013033_20140410', 'LC08_016038_20180309', 'LC08_011032_20210330', 'LC08_016039_20180309', 'LC08_012032_20210321', 'LC08_013033_20190830', 'LC08_012032_20140403', 'LC08_011032_20200311'}\n",
            "51\n"
          ]
        }
      ]
    },
    {
      "cell_type": "code",
      "execution_count": null,
      "metadata": {
        "id": "AVxctVQCRsrk",
        "colab": {
          "base_uri": "https://localhost:8080/"
        },
        "outputId": "9f8c14be-a090-4786-e362-00bffa8e33ce"
      },
      "outputs": [
        {
          "output_type": "stream",
          "name": "stdout",
          "text": [
            "0.7802612481857765 0.18672370330761592\n",
            "0.6822702620120693 0.17706821480406387\n",
            "0.6748147582308456 0.17349323963028035\n",
            "0.8344358719731113 0.18369872431441447\n",
            "0.6372011305477046 0.17749598961118326\n",
            "0.6199679168894661 0.18256817660988464\n",
            "0.5721793598655565 0.17917653349629517\n",
            "0.7926972729356047 0.17477656405163852\n",
            "0.7039951111450615 0.17453212130471316\n",
            "0.705339546253151 0.1910625620655412\n",
            "0.7556336414330456 0.17578489038270567\n",
            "0.8231609502711786 0.17914597815292949\n",
            "0.6571232144221221 0.18275150867007867\n",
            "0.7190283400809716 0.1779543197616683\n",
            "0.7565503017340157 0.19527919945000383\n",
            "0.8441830265067604 0.17969597433351156\n",
            "0.7864028722022763 0.18724314414483234\n",
            "0.7827362309983958 0.1916125582461233\n",
            "0.7432892827133145 0.17712932549079521\n",
            "0.7422809563822473 0.17804598579176534\n",
            "0.8430219234588648 0.18189595905583988\n",
            "0.8268581468184248 0.17706821480406387\n",
            "0.758750286456344 0.19524864410663814\n",
            "0.7701474295317393 0.18278206401344435\n",
            "0.698097929875487 0.17770987701474295\n",
            "0.783927889389657 0.18107096478496676\n",
            "0.6579482086929952 0.19167366893285465\n",
            "0.7924833855320449 0.19237644183026506\n",
            "0.6411733251852417 0.18091818806813842\n",
            "0.6669314796425024 0.19271255060728745\n",
            "0.6270873118936674 0.18244595523642196\n",
            "0.6761591933389351 0.18464593995875028\n",
            "0.7129172714078374 0.175571002979146\n",
            "0.7914139485142464 0.17401268046749677\n",
            "0.7967916889466046 0.22039569169658543\n",
            "0.8106027041478878 0.20609579100145137\n",
            "0.5661294018791536 0.17737376823772058\n",
            "0.6719120006111069 0.19295699335421282\n",
            "0.6463982889007716 0.18311817279046674\n",
            "0.6328011611030478 0.18259873195325033\n",
            "0.6495760446108013 0.1782904285386907\n",
            "0.5886486899396532 0.18498204873577268\n",
            "0.5903903445114964 0.18672370330761592\n",
            "0.6441983041784433 0.18354594759758613\n",
            "0.7496142387900084 0.1830570621037354\n",
            "0.6630203956916966 0.18045985791765334\n",
            "0.7860973187686197 0.18476816133221297\n",
            "0.6490566037735849 0.18223206783286228\n",
            "0.8128943549003131 0.18544037888625772\n",
            "0.6140707356198916 0.1852570468260637\n",
            "0.6628370636315025 0.1794515315865862\n"
          ]
        }
      ],
      "source": [
        "#create model inputs\n",
        "\n",
        "for scene in scene_list:\n",
        "  b1 = np.load('/content/drive/My Drive/east_cropped/' + scene + '_B1.npy')\n",
        "  b1 = np.divide(b1, 32727.5)\n",
        "  b2 = np.load('/content/drive/My Drive/east_cropped/' + scene + '_B2.npy')\n",
        "  b2 = np.divide(b2, 32727.5)\n",
        "  b3 = np.load('/content/drive/My Drive/east_cropped/' + scene + '_B3.npy')\n",
        "  b3 = np.divide(b3, 32727.5)\n",
        "  b4 = np.load('/content/drive/My Drive/east_cropped/' + scene + '_B4.npy')\n",
        "  b4 = np.divide(b4, 32727.5)\n",
        "  b10 = np.load('/content/drive/My Drive/east_cropped/' + scene + '_B10.npy')\n",
        "  b10 = np.divide(b10, 32727.5)\n",
        "  input = np.stack([b1,b2,b3,b4,b10], axis=2)\n",
        "  print(np.max(input), np.min(input))\n",
        "  np.save('/content/drive/My Drive/east_training/' + scene + '_input.npy', input)"
      ]
    },
    {
      "cell_type": "code",
      "execution_count": null,
      "metadata": {
        "id": "5mCvumjfTJ4W"
      },
      "outputs": [],
      "source": [
        "#create model outputs (apply CHL algo)\n",
        "\n",
        "#chl coeff from https://oceancolor.gsfc.nasa.gov/atbd/chlor_a/\n",
        "a0 = 0.2412\n",
        "a1 = -2.0546\n",
        "a2 = 1.1776\n",
        "a3 = -0.5538\n",
        "a4 = -0.4570\n",
        "\n",
        "min_dim = 256\n",
        "\n",
        "for scene in scene_list:\n",
        "  b1 = np.load('/content/drive/My Drive/east_cropped/' + scene + '_SR1.npy')\n",
        "  b2 = np.load('/content/drive/My Drive/east_cropped/' + scene + '_SR2.npy')\n",
        "  b3 = np.load('/content/drive/My Drive/east_cropped/' + scene + '_SR3.npy')\n",
        "\n",
        "  chl = np.zeros((min_dim,min_dim))\n",
        "  for i in range(min_dim):\n",
        "    for j in range(min_dim):\n",
        "      blue = max(b1[i][j],b2[i][j])\n",
        "      green = b3[i][j]\n",
        "      chl[i][j] = a0 + a1*(np.log10(blue/green)) + a2*(np.log10(blue/green))**2 + a3*(np.log10(blue/green))**3 + a4*(np.log10(blue/green))**4\n",
        "  \n",
        "  # print('Max log(CHL) concentration: ', np.max(chl))\n",
        "  # print('Min log(CHL) concentration: ', np.min(chl))\n",
        "\n",
        "  np.save('/content/drive/My Drive/east_cropped/' + scene + '_chl.npy', chl)\n",
        "  plt.imsave('/content/drive/My Drive/east_cropped/' + scene + '_chl.png', chl)\n",
        "\n",
        "  b10 = np.load('/content/drive/My Drive/east_cropped/' + scene + '_ST10.npy')\n",
        "\n",
        "  b10 = b10*0.00341802+149-273.15 #algorithm from Landsat converts to Kelvin, then convert to Celcius\n",
        "\n",
        "  # print('Max temp: ', np.max(b10))\n",
        "  # print('Min temp:', np.min(b10))\n",
        "\n",
        "  np.save('/content/drive/My Drive/east_cropped/' + scene + '_sst.npy', b10)\n",
        "  plt.imsave('/content/drive/My Drive/east_cropped/' + scene + '_sst.png', b10)"
      ]
    },
    {
      "cell_type": "code",
      "execution_count": null,
      "metadata": {
        "id": "MYghMGSVnDWG"
      },
      "outputs": [],
      "source": [
        "#METHODS NEEDED FOR BOA\n",
        "def median_filter(data):\n",
        "    return np.median(np.ndarray.flatten(data))\n",
        "\n",
        "def peak_max(data, filter_size):\n",
        "    indexer = filter_size // 2\n",
        "    WE = np.argmax(data[indexer])\n",
        "    NS = np.argmax(np.transpose(data)[indexer])\n",
        "    NWSE = np.argmax(data.diagonal())\n",
        "    NESW = np.argmax(data[:,::-1].diagonal())\n",
        "    return {indexer} == {WE,NS,NWSE,NESW}\n",
        "\n",
        "def peak_min(data, filter_size):\n",
        "    indexer = filter_size // 2\n",
        "    WE = np.argmin(data[indexer])\n",
        "    NS = np.argmin(np.transpose(data)[indexer])\n",
        "    NWSE = np.argmin(data.diagonal())\n",
        "    NESW = np.argmin(data[:,::-1].diagonal())\n",
        "    return {indexer} == {WE,NS,NWSE,NESW}\n",
        "\n",
        "def peak_masks(data, filter_size):\n",
        "    peaks = np.zeros(data.shape)\n",
        "    indexer = filter_size // 2\n",
        "    for i in range(data.shape[0]):\n",
        "        for j in range(data.shape[1]):\n",
        "            test = data[i-indexer:i+indexer+1,j-indexer:j+indexer+1]\n",
        "            if test.shape == (filter_size,filter_size):\n",
        "                if peak_max(test,filter_size) or peak_min(test,filter_size):\n",
        "                    peaks[i][j] = 1\n",
        "    return(peaks)\n",
        "\n",
        "def boa(img):\n",
        "    peak_5 = peak_masks(img,5)\n",
        "    peak_3 = peak_masks(img,3)\n",
        "    new_img = np.zeros(img.shape)\n",
        "    for i in range(img.shape[0]):\n",
        "        for j in range(img.shape[1]):\n",
        "            if not peak_5[i][j] and peak_3[i][j]:\n",
        "                new_img[i][j] = median_filter(img[i-1:i+2,j-1:j+2])\n",
        "            else:\n",
        "                new_img[i][j] = img[i][j]\n",
        "    return new_img"
      ]
    },
    {
      "cell_type": "code",
      "execution_count": null,
      "metadata": {
        "id": "kz232tk7nKtN"
      },
      "outputs": [],
      "source": [
        "#create model outputs (apply BOA algo)\n",
        "for scene in scene_list:\n",
        "  chl = np.load('/content/drive/My Drive/east_cropped/' + scene + '_chl.npy')\n",
        "  old_step = chl\n",
        "  new_step = boa(chl)\n",
        "  while not np.array_equal(old_step,new_step):\n",
        "      old_step = new_step\n",
        "      new_step = boa(old_step)\n",
        "  chl = new_step\n",
        "  chl = np.float32(chl)\n",
        "  gx = cv.Sobel(chl, cv.CV_32F, 1, 0, ksize=3) # the x - direction gradient\n",
        "  gy = cv.Sobel(chl, cv.CV_32F, 0, 1, ksize=3) # the y - direction gradient\n",
        "  sobel_final_chl = cv.addWeighted(gx, 0.5, gy, 0.5, 0)\n",
        "  # print(\"Min: \", np.min(sobel_final_chl))\n",
        "  # print(\"Max: \", np.max(sobel_final_chl))\n",
        "  # print(\"Mean: \", np.mean(sobel_final_chl))\n",
        "  # print(\"Std: \", np.std(sobel_final_chl))\n",
        "  plt.imsave('/content/drive/My Drive/east_cropped/' + scene + '_boa_chl.png', sobel_final_chl)\n",
        "  np.save('/content/drive/My Drive/east_cropped/' + scene + '_boa_chl.npy', sobel_final_chl)\n",
        "\n",
        "  sst = np.load('/content/drive/My Drive/east_cropped/' + scene + '_sst.npy')\n",
        "  old_step = sst\n",
        "  new_step = boa(sst)\n",
        "  while not np.array_equal(old_step,new_step):\n",
        "      old_step = new_step\n",
        "      new_step = boa(old_step)\n",
        "  sst = new_step\n",
        "  sst = np.float32(sst)\n",
        "  gx = cv.Sobel(sst, cv.CV_32F, 1, 0, ksize=3) # the x - direction gradient\n",
        "  gy = cv.Sobel(sst, cv.CV_32F, 0, 1, ksize=3) # the y - direction gradient\n",
        "  sobel_final_sst = cv.addWeighted(gx, 0.5, gy, 0.5, 0)\n",
        "  # print(\"Min: \", np.min(sobel_final_sst))\n",
        "  # print(\"Max: \", np.max(sobel_final_sst))\n",
        "  # print(\"Mean: \", np.mean(sobel_final_sst))\n",
        "  # print(\"Std: \", np.std(sobel_final_sst))\n",
        "  plt.imsave('/content/drive/My Drive/east_cropped/' + scene + '_boa_sst.png', sobel_final_sst)\n",
        "  np.save('/content/drive/My Drive/east_cropped/' + scene + '_boa_sst.npy', sobel_final_sst)"
      ]
    },
    {
      "cell_type": "code",
      "execution_count": null,
      "metadata": {
        "id": "q9KZNu_lKvqO"
      },
      "outputs": [],
      "source": [
        "#chl cutoff: 0.05\n",
        "#sst cutoff: 0.5\n",
        "\n",
        "for scene in scene_list:\n",
        "  boa_chl = np.load('/content/drive/My Drive/east_cropped/' + scene + '_boa_chl.npy')\n",
        "  boa_chl = (np.abs(boa_chl)>0.05).astype(np.int8)\n",
        "  boa_sst = np.load('/content/drive/My Drive/east_cropped/' + scene + '_boa_sst.npy')\n",
        "  boa_sst = (np.abs(boa_sst)>0.5).astype(np.int8)\n",
        "  output = np.stack([boa_chl,boa_sst],axis=2)\n",
        "  np.save('/content/drive/My Drive/east_training/' + scene + '_output.npy', output)"
      ]
    },
    {
      "cell_type": "code",
      "source": [
        ""
      ],
      "metadata": {
        "id": "iNpq5CRJGEBb"
      },
      "execution_count": null,
      "outputs": []
    }
  ],
  "metadata": {
    "colab": {
      "collapsed_sections": [],
      "name": "CreatingGroundTruths.ipynb",
      "provenance": [],
      "authorship_tag": "ABX9TyPQgMdqxAyQm8BPUCKF6IXt",
      "include_colab_link": true
    },
    "kernelspec": {
      "display_name": "Python 3",
      "name": "python3"
    },
    "language_info": {
      "name": "python"
    }
  },
  "nbformat": 4,
  "nbformat_minor": 0
}