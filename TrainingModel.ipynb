{
  "nbformat": 4,
  "nbformat_minor": 0,
  "metadata": {
    "colab": {
      "name": "TrainingModel.ipynb",
      "provenance": [],
      "collapsed_sections": [],
      "authorship_tag": "ABX9TyO4kJ3cg9gWuUBNMRDfQGSK",
      "include_colab_link": true
    },
    "kernelspec": {
      "name": "python3",
      "display_name": "Python 3"
    },
    "language_info": {
      "name": "python"
    }
  },
  "cells": [
    {
      "cell_type": "markdown",
      "metadata": {
        "id": "view-in-github",
        "colab_type": "text"
      },
      "source": [
        "<a href=\"https://colab.research.google.com/github/violetcfelt/oceanfronts/blob/main/TrainingModel.ipynb\" target=\"_parent\"><img src=\"https://colab.research.google.com/assets/colab-badge.svg\" alt=\"Open In Colab\"/></a>"
      ]
    },
    {
      "cell_type": "code",
      "execution_count": 44,
      "metadata": {
        "id": "r4Og3ctRBK4m"
      },
      "outputs": [],
      "source": [
        "import tensorflow as tf\n",
        "from tensorflow.keras.layers import Input, Conv2D, MaxPool2D, Conv2DTranspose, Activation\n",
        "from tensorflow.keras import Model"
      ]
    },
    {
      "cell_type": "code",
      "source": [
        "def custom_loss(logits, label):\n",
        "    \"\"\"\n",
        "    Implements Equation [2] in https://arxiv.org/pdf/1504.06375.pdf\n",
        "    \"\"\"\n",
        "    y = tf.cast(label, tf.float32)\n",
        "\n",
        "    count_neg = tf.reduce_sum(1. - y)\n",
        "    count_pos = tf.reduce_sum(y)\n",
        "\n",
        "    beta = count_neg / (count_neg + count_pos)\n",
        "\n",
        "    pos_weight = beta / (1 - beta)\n",
        "\n",
        "    cost = tf.nn.weighted_cross_entropy_with_logits(logits=logits, labels=y, pos_weight=pos_weight)\n",
        "\n",
        "    cost = tf.reduce_mean(cost * (1 - beta))\n",
        "\n",
        "    return cost\n",
        "\n",
        "def side_layer(inputs, upscale):\n",
        "  side = Conv2D(filters=64*upscale, kernel_size=3, padding='SAME')(inputs)\n",
        "  side = Conv2DTranspose(filters=2, kernel_size=3, strides=upscale, padding='SAME')(side)\n",
        "  return side\n",
        "\n",
        "def HED():\n",
        "\n",
        "  inputs = Input(shape=(256,256,5))\n",
        "\n",
        "  conv1_1 = Conv2D(filters=64, kernel_size=3, padding='SAME', activation='relu')(inputs)\n",
        "  conv1_2 = Conv2D(filters=64, kernel_size=3, padding='SAME', activation='relu')(conv1_1)\n",
        "  side_1 = side_layer(conv1_2, 1)\n",
        "  pool_1 = MaxPool2D(pool_size=2, padding='SAME')(conv1_2)\n",
        "\n",
        "  conv2_1 = Conv2D(filters=128, kernel_size=3, padding='SAME', activation='relu')(pool_1)\n",
        "  conv2_2 = Conv2D(filters=128, kernel_size=3, padding='SAME', activation='relu')(conv2_1)\n",
        "  side_2 = side_layer(conv2_2, 2)\n",
        "  pool_2 = MaxPool2D(pool_size=2, padding='SAME')(conv2_2)\n",
        "\n",
        "  conv3_1 = Conv2D(filters=256, kernel_size=3, padding='SAME', activation='relu')(pool_2)\n",
        "  conv3_2 = Conv2D(filters=256, kernel_size=3, padding='SAME', activation='relu')(conv3_1)\n",
        "  conv3_3 = Conv2D(filters=256, kernel_size=3, padding='SAME', activation='relu')(conv3_2)\n",
        "  side_3 = side_layer(conv3_3, 4)\n",
        "  pool_3 = MaxPool2D(pool_size=2, padding='SAME')(conv3_3)\n",
        "  \n",
        "  conv4_1 = Conv2D(filters=512, kernel_size=3, padding='SAME', activation='relu')(pool_3)\n",
        "  conv4_2 = Conv2D(filters=512, kernel_size=3, padding='SAME', activation='relu')(conv4_1)\n",
        "  conv4_3 = Conv2D(filters=512, kernel_size=3, padding='SAME', activation='relu')(conv4_2)\n",
        "  side_4 = side_layer(conv4_3, 8)\n",
        "  pool_4 = MaxPool2D(pool_size=2, padding='SAME')(conv4_3)\n",
        "\n",
        "  conv5_1 = Conv2D(filters=512, kernel_size=3, padding='SAME', activation='relu')(pool_4)\n",
        "  conv5_2 = Conv2D(filters=512, kernel_size=3, padding='SAME', activation='relu')(conv5_1)\n",
        "  conv5_3 = Conv2D(filters=512, kernel_size=3, padding='SAME', activation='relu')(conv5_2)\n",
        "  side_5 = side_layer(conv5_3, 16)\n",
        "\n",
        "  side_outputs = [side_1, side_2, side_3, side_4, side_5]\n",
        "  fuse = Conv2D(filters=2, kernel_size=3, padding='SAME')(tf.concat(side_outputs, axis=3))\n",
        "  output = Activation('sigmoid')(fuse)\n",
        "  # outputs = side_outputs + [fuse]\n",
        "\n",
        "  model = Model(inputs=inputs, outputs=output)\n",
        "  return model"
      ],
      "metadata": {
        "id": "ewF9C-6cB4TE"
      },
      "execution_count": 45,
      "outputs": []
    },
    {
      "cell_type": "code",
      "source": [
        "model = HED()\n",
        "print(model.summary())"
      ],
      "metadata": {
        "colab": {
          "base_uri": "https://localhost:8080/"
        },
        "id": "HZ6FZLESE_qt",
        "outputId": "143ecaca-f3ee-49ae-9e4c-7f22e71f3469"
      },
      "execution_count": 46,
      "outputs": [
        {
          "output_type": "stream",
          "name": "stdout",
          "text": [
            "Model: \"model_7\"\n",
            "__________________________________________________________________________________________________\n",
            " Layer (type)                   Output Shape         Param #     Connected to                     \n",
            "==================================================================================================\n",
            " input_8 (InputLayer)           [(None, 256, 256, 5  0           []                               \n",
            "                                )]                                                                \n",
            "                                                                                                  \n",
            " conv2d_133 (Conv2D)            (None, 256, 256, 64  2944        ['input_8[0][0]']                \n",
            "                                )                                                                 \n",
            "                                                                                                  \n",
            " conv2d_134 (Conv2D)            (None, 256, 256, 64  36928       ['conv2d_133[0][0]']             \n",
            "                                )                                                                 \n",
            "                                                                                                  \n",
            " max_pooling2d_28 (MaxPooling2D  (None, 128, 128, 64  0          ['conv2d_134[0][0]']             \n",
            " )                              )                                                                 \n",
            "                                                                                                  \n",
            " conv2d_136 (Conv2D)            (None, 128, 128, 12  73856       ['max_pooling2d_28[0][0]']       \n",
            "                                8)                                                                \n",
            "                                                                                                  \n",
            " conv2d_137 (Conv2D)            (None, 128, 128, 12  147584      ['conv2d_136[0][0]']             \n",
            "                                8)                                                                \n",
            "                                                                                                  \n",
            " max_pooling2d_29 (MaxPooling2D  (None, 64, 64, 128)  0          ['conv2d_137[0][0]']             \n",
            " )                                                                                                \n",
            "                                                                                                  \n",
            " conv2d_139 (Conv2D)            (None, 64, 64, 256)  295168      ['max_pooling2d_29[0][0]']       \n",
            "                                                                                                  \n",
            " conv2d_140 (Conv2D)            (None, 64, 64, 256)  590080      ['conv2d_139[0][0]']             \n",
            "                                                                                                  \n",
            " conv2d_141 (Conv2D)            (None, 64, 64, 256)  590080      ['conv2d_140[0][0]']             \n",
            "                                                                                                  \n",
            " max_pooling2d_30 (MaxPooling2D  (None, 32, 32, 256)  0          ['conv2d_141[0][0]']             \n",
            " )                                                                                                \n",
            "                                                                                                  \n",
            " conv2d_143 (Conv2D)            (None, 32, 32, 512)  1180160     ['max_pooling2d_30[0][0]']       \n",
            "                                                                                                  \n",
            " conv2d_144 (Conv2D)            (None, 32, 32, 512)  2359808     ['conv2d_143[0][0]']             \n",
            "                                                                                                  \n",
            " conv2d_145 (Conv2D)            (None, 32, 32, 512)  2359808     ['conv2d_144[0][0]']             \n",
            "                                                                                                  \n",
            " max_pooling2d_31 (MaxPooling2D  (None, 16, 16, 512)  0          ['conv2d_145[0][0]']             \n",
            " )                                                                                                \n",
            "                                                                                                  \n",
            " conv2d_147 (Conv2D)            (None, 16, 16, 512)  2359808     ['max_pooling2d_31[0][0]']       \n",
            "                                                                                                  \n",
            " conv2d_148 (Conv2D)            (None, 16, 16, 512)  2359808     ['conv2d_147[0][0]']             \n",
            "                                                                                                  \n",
            " conv2d_149 (Conv2D)            (None, 16, 16, 512)  2359808     ['conv2d_148[0][0]']             \n",
            "                                                                                                  \n",
            " conv2d_135 (Conv2D)            (None, 256, 256, 64  36928       ['conv2d_134[0][0]']             \n",
            "                                )                                                                 \n",
            "                                                                                                  \n",
            " conv2d_138 (Conv2D)            (None, 128, 128, 12  147584      ['conv2d_137[0][0]']             \n",
            "                                8)                                                                \n",
            "                                                                                                  \n",
            " conv2d_142 (Conv2D)            (None, 64, 64, 256)  590080      ['conv2d_141[0][0]']             \n",
            "                                                                                                  \n",
            " conv2d_146 (Conv2D)            (None, 32, 32, 512)  2359808     ['conv2d_145[0][0]']             \n",
            "                                                                                                  \n",
            " conv2d_150 (Conv2D)            (None, 16, 16, 1024  4719616     ['conv2d_149[0][0]']             \n",
            "                                )                                                                 \n",
            "                                                                                                  \n",
            " conv2d_transpose_35 (Conv2DTra  (None, 256, 256, 2)  1154       ['conv2d_135[0][0]']             \n",
            " nspose)                                                                                          \n",
            "                                                                                                  \n",
            " conv2d_transpose_36 (Conv2DTra  (None, 256, 256, 2)  2306       ['conv2d_138[0][0]']             \n",
            " nspose)                                                                                          \n",
            "                                                                                                  \n",
            " conv2d_transpose_37 (Conv2DTra  (None, 256, 256, 2)  4610       ['conv2d_142[0][0]']             \n",
            " nspose)                                                                                          \n",
            "                                                                                                  \n",
            " conv2d_transpose_38 (Conv2DTra  (None, 256, 256, 2)  9218       ['conv2d_146[0][0]']             \n",
            " nspose)                                                                                          \n",
            "                                                                                                  \n",
            " conv2d_transpose_39 (Conv2DTra  (None, 256, 256, 2)  18434      ['conv2d_150[0][0]']             \n",
            " nspose)                                                                                          \n",
            "                                                                                                  \n",
            " tf.concat_7 (TFOpLambda)       (None, 256, 256, 10  0           ['conv2d_transpose_35[0][0]',    \n",
            "                                )                                 'conv2d_transpose_36[0][0]',    \n",
            "                                                                  'conv2d_transpose_37[0][0]',    \n",
            "                                                                  'conv2d_transpose_38[0][0]',    \n",
            "                                                                  'conv2d_transpose_39[0][0]']    \n",
            "                                                                                                  \n",
            " conv2d_151 (Conv2D)            (None, 256, 256, 2)  182         ['tf.concat_7[0][0]']            \n",
            "                                                                                                  \n",
            " activation_5 (Activation)      (None, 256, 256, 2)  0           ['conv2d_151[0][0]']             \n",
            "                                                                                                  \n",
            "==================================================================================================\n",
            "Total params: 22,605,760\n",
            "Trainable params: 22,605,760\n",
            "Non-trainable params: 0\n",
            "__________________________________________________________________________________________________\n",
            "None\n"
          ]
        }
      ]
    },
    {
      "cell_type": "code",
      "source": [
        "model.compile(loss=custom_loss) #need the custom loss because of our weird output"
      ],
      "metadata": {
        "id": "LrKllCEIDKDH"
      },
      "execution_count": 47,
      "outputs": []
    },
    {
      "cell_type": "code",
      "source": [
        "from google.colab import drive\n",
        "import glob\n",
        "import numpy as np\n",
        "drive.mount('/content/drive/')"
      ],
      "metadata": {
        "colab": {
          "base_uri": "https://localhost:8080/"
        },
        "id": "DI1uuFQYD59R",
        "outputId": "9bfd0536-f222-467c-dbc1-f99928f4724c"
      },
      "execution_count": 48,
      "outputs": [
        {
          "output_type": "stream",
          "name": "stdout",
          "text": [
            "Drive already mounted at /content/drive/; to attempt to forcibly remount, call drive.mount(\"/content/drive/\", force_remount=True).\n"
          ]
        }
      ]
    },
    {
      "cell_type": "code",
      "source": [
        "scene_list = set()\n",
        "for file in glob.glob(\"/content/drive/My Drive/east_training/*.npy\"):\n",
        "   scene_list.add(file.split('/')[-1].rsplit('_', 1)[0])\n",
        "\n",
        "print(scene_list)\n",
        "print(len(scene_list))"
      ],
      "metadata": {
        "colab": {
          "base_uri": "https://localhost:8080/"
        },
        "id": "AGYP2Cn78wMA",
        "outputId": "6b7ca154-a54a-4974-f840-ebc771e7b877"
      },
      "execution_count": 49,
      "outputs": [
        {
          "output_type": "stream",
          "name": "stdout",
          "text": [
            "{'LC08_013033_20200222', 'LC08_011032_20180423', 'LC08_012032_20141113', 'LC08_012032_20171020', 'LC08_008030_20170415', 'LC08_013033_20170418', 'LC08_011032_20200311', 'LC08_011030_20211109', 'LC08_012032_20130502', 'LC08_016039_20130328', 'LC08_013033_20160330', 'LC08_011030_20151109', 'LC08_015037_20171025', 'LC08_012032_20140809', 'LC08_008030_20150325', 'LC08_015037_20131217', 'LC08_012032_20201129', 'LC08_013033_20160415', 'LC08_011030_20180423', 'LC08_012032_20210321', 'LC08_016039_20180309', 'LC08_011032_20211109', 'LC08_011030_20181016', 'LC08_008030_20180824', 'LC08_016038_20180309', 'LC08_012032_20160424', 'LC08_013035_20161024', 'LC08_011030_20210517', 'LC08_016038_20200126', 'LC08_015037_20141017', 'LC08_015037_20180302', 'LC08_011030_20160823', 'LC08_016038_20140517', 'LC08_013035_20131219', 'LC08_012032_20200318', 'LC08_013033_20140410', 'LC08_011030_20210330', 'LC08_011030_20180829', 'LC08_011032_20210226', 'LC08_011032_20200224', 'LC08_015037_20211020', 'LC08_013041_20210413', 'LC08_008030_20140306', 'LC08_012032_20140825', 'LC08_015037_20181012', 'LC08_012032_20151116', 'LC08_013033_20190830', 'LC08_012032_20140403', 'LC08_008030_20190405', 'LC08_011032_20210330', 'LC08_011030_20150906'}\n",
            "51\n"
          ]
        }
      ]
    },
    {
      "cell_type": "code",
      "source": [
        "scene_list = list(scene_list)\n",
        "X_train = np.empty((len(scene_list),256,256,5),dtype=np.float32)\n",
        "Y_train = np.empty((len(scene_list),256,256,2),dtype=np.float32)\n",
        "for scene_num in range(len(scene_list)):\n",
        "  X_train[scene_num] = np.load('/content/drive/My Drive/east_training/' + scene_list[scene_num] + '_input.npy')\n",
        "  Y_train[scene_num] = np.load('/content/drive/My Drive/east_training/' + scene_list[scene_num] + '_output.npy')"
      ],
      "metadata": {
        "id": "FUNnntrM88IN"
      },
      "execution_count": 50,
      "outputs": []
    },
    {
      "cell_type": "code",
      "source": [
        "print(Y_train[0][5][0][0])"
      ],
      "metadata": {
        "colab": {
          "base_uri": "https://localhost:8080/"
        },
        "id": "97z8GuXR95DH",
        "outputId": "fd6d2d96-528e-4f69-809d-4cd3ae8e1577"
      },
      "execution_count": 51,
      "outputs": [
        {
          "output_type": "stream",
          "name": "stdout",
          "text": [
            "0.0\n"
          ]
        }
      ]
    },
    {
      "cell_type": "code",
      "source": [
        "history = model.fit(X_train, Y_train, epochs=25)\n",
        "model.save_weights('/content/drive/My Drive/trained_weights.h5')\n",
        "print(history)"
      ],
      "metadata": {
        "colab": {
          "base_uri": "https://localhost:8080/"
        },
        "id": "lieCo_r69_Fc",
        "outputId": "250c5ee1-df08-40b6-d859-205dd48cd139"
      },
      "execution_count": 52,
      "outputs": [
        {
          "output_type": "stream",
          "name": "stdout",
          "text": [
            "Epoch 1/25\n",
            "2/2 [==============================] - 169s 50s/step - loss: 0.3473\n",
            "Epoch 2/25\n",
            "2/2 [==============================] - 134s 50s/step - loss: 0.2862\n",
            "Epoch 3/25\n",
            "2/2 [==============================] - 134s 50s/step - loss: 0.1251\n",
            "Epoch 4/25\n",
            "2/2 [==============================] - 134s 50s/step - loss: 0.0566\n",
            "Epoch 5/25\n",
            "2/2 [==============================] - 137s 53s/step - loss: 0.0070\n",
            "Epoch 6/25\n",
            "2/2 [==============================] - 133s 50s/step - loss: 0.0018\n",
            "Epoch 7/25\n",
            "2/2 [==============================] - 134s 50s/step - loss: 0.0245\n",
            "Epoch 8/25\n",
            "2/2 [==============================] - 134s 50s/step - loss: 7.7186e-04\n",
            "Epoch 9/25\n",
            "2/2 [==============================] - 133s 50s/step - loss: 2.9277e-04\n",
            "Epoch 10/25\n",
            "2/2 [==============================] - 137s 51s/step - loss: 1.3670e-04\n",
            "Epoch 11/25\n",
            "2/2 [==============================] - 135s 50s/step - loss: 6.9643e-05\n",
            "Epoch 12/25\n",
            "2/2 [==============================] - 135s 50s/step - loss: 3.6555e-05\n",
            "Epoch 13/25\n",
            "2/2 [==============================] - 135s 50s/step - loss: 2.0766e-05\n",
            "Epoch 14/25\n",
            "2/2 [==============================] - 137s 53s/step - loss: 1.4342e-05\n",
            "Epoch 15/25\n",
            "2/2 [==============================] - 135s 50s/step - loss: 1.1489e-05\n",
            "Epoch 16/25\n",
            "2/2 [==============================] - 134s 50s/step - loss: 9.5494e-06\n",
            "Epoch 17/25\n",
            "2/2 [==============================] - 135s 50s/step - loss: 8.0251e-06\n",
            "Epoch 18/25\n",
            "2/2 [==============================] - 135s 50s/step - loss: 6.7483e-06\n",
            "Epoch 19/25\n",
            "2/2 [==============================] - 140s 50s/step - loss: 5.7355e-06\n",
            "Epoch 20/25\n",
            "2/2 [==============================] - 135s 50s/step - loss: 4.8926e-06\n",
            "Epoch 21/25\n",
            "2/2 [==============================] - 134s 50s/step - loss: 4.2032e-06\n",
            "Epoch 22/25\n",
            "2/2 [==============================] - 134s 50s/step - loss: 3.6027e-06\n",
            "Epoch 23/25\n",
            "2/2 [==============================] - 139s 54s/step - loss: 3.0805e-06\n",
            "Epoch 24/25\n",
            "2/2 [==============================] - 136s 50s/step - loss: 2.6755e-06\n",
            "Epoch 25/25\n",
            "2/2 [==============================] - 135s 51s/step - loss: 2.3425e-06\n",
            "<keras.callbacks.History object at 0x7fc13e7b90d0>\n"
          ]
        }
      ]
    },
    {
      "cell_type": "code",
      "source": [
        "print(history.params)"
      ],
      "metadata": {
        "colab": {
          "base_uri": "https://localhost:8080/"
        },
        "id": "CCoTOccC-3LH",
        "outputId": "bec2bbc0-6549-47df-b613-294076c04e60"
      },
      "execution_count": 21,
      "outputs": [
        {
          "output_type": "stream",
          "name": "stdout",
          "text": [
            "{'verbose': 1, 'epochs': 25, 'steps': 2}\n"
          ]
        }
      ]
    },
    {
      "cell_type": "code",
      "source": [
        "print(history.history.keys())"
      ],
      "metadata": {
        "colab": {
          "base_uri": "https://localhost:8080/"
        },
        "id": "iNP554xILnlh",
        "outputId": "36cfb630-9e5e-49f5-b38a-6ef4094a60ef"
      },
      "execution_count": 54,
      "outputs": [
        {
          "output_type": "stream",
          "name": "stdout",
          "text": [
            "dict_keys(['loss'])\n"
          ]
        }
      ]
    },
    {
      "cell_type": "code",
      "source": [
        "print(history.history['loss'])"
      ],
      "metadata": {
        "colab": {
          "base_uri": "https://localhost:8080/"
        },
        "id": "Df8AcuZ6-bAG",
        "outputId": "f2dd49be-d7e2-4dd4-cfb6-c9be1c2823ba"
      },
      "execution_count": 53,
      "outputs": [
        {
          "output_type": "stream",
          "name": "stdout",
          "text": [
            "[0.3473142683506012, 0.2862316071987152, 0.12510384619235992, 0.0565720871090889, 0.006958435755223036, 0.0017931615002453327, 0.024494998157024384, 0.0007718628621660173, 0.00029277268913574517, 0.00013670283078681678, 6.964289786992595e-05, 3.6555305996444076e-05, 2.0765713998116553e-05, 1.4341530004458036e-05, 1.1488975360407494e-05, 9.549437891109847e-06, 8.025127499422524e-06, 6.748327905370388e-06, 5.735495960834669e-06, 4.892622200713959e-06, 4.203164735372411e-06, 3.6027115584147396e-06, 3.080547912759357e-06, 2.6755355975183193e-06, 2.342514562769793e-06]\n"
          ]
        }
      ]
    },
    {
      "cell_type": "code",
      "source": [
        "from matplotlib import pyplot as plt\n",
        "\n",
        "plt.plot(history.history['loss'], label = 'output loss')\n",
        "# plt.plot(history.history['conv2d_transpose_5_loss'], label = 'side loss 1')\n",
        "# plt.plot(history.history['conv2d_transpose_6_loss'], label = 'side loss 2')\n",
        "# plt.plot(history.history['conv2d_transpose_7_loss'], label = 'side loss 3')\n",
        "# plt.plot(history.history['conv2d_transpose_8_loss'], label = 'side loss 4')\n",
        "# plt.plot(history.history['conv2d_transpose_9_loss'], label = 'side loss 5')\n",
        "plt.legend()\n",
        "plt.title('Loss During Training')"
      ],
      "metadata": {
        "colab": {
          "base_uri": "https://localhost:8080/",
          "height": 298
        },
        "id": "dGJbzCX7-eeN",
        "outputId": "4a573c0a-bee8-4a7c-b458-2d36480c229d"
      },
      "execution_count": 55,
      "outputs": [
        {
          "output_type": "execute_result",
          "data": {
            "text/plain": [
              "Text(0.5, 1.0, 'Loss During Training')"
            ]
          },
          "metadata": {},
          "execution_count": 55
        },
        {
          "output_type": "display_data",
          "data": {
            "image/png": "[encoded data removed]",
            "text/plain": [
              "<Figure size 432x288 with 1 Axes>"
            ]
          },
          "metadata": {
            "needs_background": "light"
          }
        }
      ]
    },
    {
      "cell_type": "code",
      "source": [
        "plt.plot(history.history['conv2d_37_binary_accuracy'], label = 'output accuracy')\n",
        "plt.plot(history.history['conv2d_transpose_5_binary_accuracy'], label = 'side accuracy 1')\n",
        "plt.plot(history.history['conv2d_transpose_6_binary_accuracy'], label = 'side accuracy 2')\n",
        "plt.plot(history.history['conv2d_transpose_7_binary_accuracy'], label = 'side accuracy 3')\n",
        "plt.plot(history.history['conv2d_transpose_8_binary_accuracy'], label = 'side accuracy 4')\n",
        "plt.plot(history.history['conv2d_transpose_9_binary_accuracy'], label = 'side accuracy 5')\n",
        "plt.legend()\n",
        "plt.title('Accuracy During Training')"
      ],
      "metadata": {
        "colab": {
          "base_uri": "https://localhost:8080/",
          "height": 298
        },
        "id": "TyxWmG324HCz",
        "outputId": "059805f8-ec1d-4ddc-9e28-dbaff619582f"
      },
      "execution_count": 26,
      "outputs": [
        {
          "output_type": "execute_result",
          "data": {
            "text/plain": [
              "Text(0.5, 1.0, 'Accuracy During Training')"
            ]
          },
          "metadata": {},
          "execution_count": 26
        },
        {
          "output_type": "display_data",
          "data": {
            "image/png": "[encoded data removed]",
            "text/plain": [
              "<Figure size 432x288 with 1 Axes>"
            ]
          },
          "metadata": {
            "needs_background": "light"
          }
        }
      ]
    },
    {
      "cell_type": "code",
      "source": [
        ""
      ],
      "metadata": {
        "id": "6Q0BjL6-5aMG"
      },
      "execution_count": null,
      "outputs": []
    }
  ]
}