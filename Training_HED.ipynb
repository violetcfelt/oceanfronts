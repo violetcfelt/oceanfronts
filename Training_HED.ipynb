{
  "nbformat": 4,
  "nbformat_minor": 0,
  "metadata": {
    "colab": {
      "name": "Training_HED.ipynb",
      "provenance": [],
      "collapsed_sections": [],
      "authorship_tag": "ABX9TyMGrH4t92QO4rEZ3e6Tq3q4",
      "include_colab_link": true
    },
    "kernelspec": {
      "name": "python3",
      "display_name": "Python 3"
    },
    "language_info": {
      "name": "python"
    }
  },
  "cells": [
    {
      "cell_type": "markdown",
      "metadata": {
        "id": "view-in-github",
        "colab_type": "text"
      },
      "source": [
        "<a href=\"https://colab.research.google.com/github/violetcfelt/oceanfronts/blob/main/Training_HED.ipynb\" target=\"_parent\"><img src=\"https://colab.research.google.com/assets/colab-badge.svg\" alt=\"Open In Colab\"/></a>"
      ]
    },
    {
      "cell_type": "code",
      "execution_count": null,
      "metadata": {
        "id": "r4Og3ctRBK4m"
      },
      "outputs": [],
      "source": [
        "import tensorflow as tf\n",
        "from tensorflow.keras.layers import Input, Conv2D, MaxPool2D, Conv2DTranspose\n",
        "from tensorflow.keras import Model\n",
        "from tensorflow.keras.applications.vgg16 import VGG16\n",
        "from keras.callbacks import ModelCheckpoint"
      ]
    },
    {
      "cell_type": "code",
      "source": [
        "def custom_loss(logits, label):\n",
        "    \"\"\"\n",
        "    Implements Equation [2] in https://arxiv.org/pdf/1504.06375.pdf\n",
        "    \"\"\"\n",
        "    y = tf.cast(label, tf.float32)\n",
        "\n",
        "    count_neg = tf.reduce_sum(1. - y)\n",
        "    count_pos = tf.reduce_sum(y)\n",
        "\n",
        "    beta = count_neg / (count_neg + count_pos)\n",
        "\n",
        "    pos_weight = beta / (1 - beta)\n",
        "\n",
        "    cost = tf.nn.weighted_cross_entropy_with_logits(logits=logits, labels=y, pos_weight=pos_weight)\n",
        "\n",
        "    cost = tf.reduce_mean(cost * (1 - beta))\n",
        "\n",
        "    return cost\n",
        "\n",
        "def HED():\n",
        "\n",
        "  vgg = VGG16(input_shape=[224,224,3], weights='imagenet', include_top=False)\n",
        "  vgg.trainable = False\n",
        "  input = Input(shape=(224,224,3))\n",
        "  x = vgg.get_layer('block1_conv1')(input)\n",
        "  x = vgg.get_layer('block1_conv2')(x)\n",
        "  side1 = Conv2D(filters=64, kernel_size=3, padding='SAME')(x)\n",
        "  side1 = Conv2DTranspose(filters=2, kernel_size=3, strides=1, padding='SAME')(side1)\n",
        "  x = vgg.get_layer('block1_pool')(x)\n",
        "  x = vgg.get_layer('block2_conv1')(x)\n",
        "  x = vgg.get_layer('block2_conv2')(x)\n",
        "  side2 = Conv2D(filters=128, kernel_size=3, padding='SAME')(x)\n",
        "  side2 = Conv2DTranspose(filters=2, kernel_size=3, strides=2, padding='SAME')(side2)\n",
        "  x = vgg.get_layer('block2_pool')(x)\n",
        "  x = vgg.get_layer('block3_conv1')(x)\n",
        "  x = vgg.get_layer('block3_conv2')(x)\n",
        "  x = vgg.get_layer('block3_conv3')(x)\n",
        "  side3 = Conv2D(filters=256, kernel_size=3, padding='SAME')(x)\n",
        "  side3 = Conv2DTranspose(filters=2, kernel_size=3, strides=4, padding='SAME')(side3)\n",
        "  x = vgg.get_layer('block3_pool')(x)\n",
        "  x = vgg.get_layer('block4_conv1')(x)\n",
        "  x = vgg.get_layer('block4_conv2')(x)\n",
        "  x = vgg.get_layer('block4_conv3')(x)\n",
        "  side4 = Conv2D(filters=512, kernel_size=3, padding='SAME')(x)\n",
        "  side4 = Conv2DTranspose(filters=2, kernel_size=3, strides=8, padding='SAME')(side4)\n",
        "  x = vgg.get_layer('block4_pool')(x)\n",
        "  x = vgg.get_layer('block5_conv1')(x)\n",
        "  x = vgg.get_layer('block5_conv2')(x)\n",
        "  x = vgg.get_layer('block5_conv3')(x)\n",
        "  side5 = Conv2D(filters=512, kernel_size=3, padding='SAME')(x)\n",
        "  side5 = Conv2DTranspose(filters=2, kernel_size=3, strides=16, padding='SAME')(side5)\n",
        "\n",
        "  side_outputs = [side1, side2, side3, side4, side5]\n",
        "  output = Conv2D(filters=2, kernel_size=3, padding='SAME', activation='sigmoid')(tf.concat(side_outputs, axis=3))\n",
        "\n",
        "  model = Model(inputs=input, outputs=output)\n",
        "\n",
        "  return model\n"
      ],
      "metadata": {
        "id": "ewF9C-6cB4TE"
      },
      "execution_count": null,
      "outputs": []
    },
    {
      "cell_type": "code",
      "source": [
        "model = HED()\n",
        "print(model.summary())"
      ],
      "metadata": {
        "colab": {
          "base_uri": "https://localhost:8080/"
        },
        "id": "HZ6FZLESE_qt",
        "outputId": "5cec51af-109b-4b19-e46c-e4bcdd1b47bb"
      },
      "execution_count": null,
      "outputs": [
        {
          "output_type": "stream",
          "name": "stdout",
          "text": [
            "Model: \"model_2\"\n",
            "__________________________________________________________________________________________________\n",
            " Layer (type)                   Output Shape         Param #     Connected to                     \n",
            "==================================================================================================\n",
            " input_6 (InputLayer)           [(None, 224, 224, 3  0           []                               \n",
            "                                )]                                                                \n",
            "                                                                                                  \n",
            " block1_conv1 (Conv2D)          (None, 224, 224, 64  1792        ['input_6[0][0]']                \n",
            "                                )                                                                 \n",
            "                                                                                                  \n",
            " block1_conv2 (Conv2D)          (None, 224, 224, 64  36928       ['block1_conv1[1][0]']           \n",
            "                                )                                                                 \n",
            "                                                                                                  \n",
            " block1_pool (MaxPooling2D)     (None, 112, 112, 64  0           ['block1_conv2[1][0]']           \n",
            "                                )                                                                 \n",
            "                                                                                                  \n",
            " block2_conv1 (Conv2D)          (None, 112, 112, 12  73856       ['block1_pool[1][0]']            \n",
            "                                8)                                                                \n",
            "                                                                                                  \n",
            " block2_conv2 (Conv2D)          (None, 112, 112, 12  147584      ['block2_conv1[1][0]']           \n",
            "                                8)                                                                \n",
            "                                                                                                  \n",
            " block2_pool (MaxPooling2D)     (None, 56, 56, 128)  0           ['block2_conv2[1][0]']           \n",
            "                                                                                                  \n",
            " block3_conv1 (Conv2D)          (None, 56, 56, 256)  295168      ['block2_pool[1][0]']            \n",
            "                                                                                                  \n",
            " block3_conv2 (Conv2D)          (None, 56, 56, 256)  590080      ['block3_conv1[1][0]']           \n",
            "                                                                                                  \n",
            " block3_conv3 (Conv2D)          (None, 56, 56, 256)  590080      ['block3_conv2[1][0]']           \n",
            "                                                                                                  \n",
            " block3_pool (MaxPooling2D)     (None, 28, 28, 256)  0           ['block3_conv3[1][0]']           \n",
            "                                                                                                  \n",
            " block4_conv1 (Conv2D)          (None, 28, 28, 512)  1180160     ['block3_pool[1][0]']            \n",
            "                                                                                                  \n",
            " block4_conv2 (Conv2D)          (None, 28, 28, 512)  2359808     ['block4_conv1[1][0]']           \n",
            "                                                                                                  \n",
            " block4_conv3 (Conv2D)          (None, 28, 28, 512)  2359808     ['block4_conv2[1][0]']           \n",
            "                                                                                                  \n",
            " block4_pool (MaxPooling2D)     (None, 14, 14, 512)  0           ['block4_conv3[1][0]']           \n",
            "                                                                                                  \n",
            " block5_conv1 (Conv2D)          (None, 14, 14, 512)  2359808     ['block4_pool[1][0]']            \n",
            "                                                                                                  \n",
            " block5_conv2 (Conv2D)          (None, 14, 14, 512)  2359808     ['block5_conv1[1][0]']           \n",
            "                                                                                                  \n",
            " block5_conv3 (Conv2D)          (None, 14, 14, 512)  2359808     ['block5_conv2[1][0]']           \n",
            "                                                                                                  \n",
            " conv2d_12 (Conv2D)             (None, 224, 224, 64  36928       ['block1_conv2[1][0]']           \n",
            "                                )                                                                 \n",
            "                                                                                                  \n",
            " conv2d_13 (Conv2D)             (None, 112, 112, 12  147584      ['block2_conv2[1][0]']           \n",
            "                                8)                                                                \n",
            "                                                                                                  \n",
            " conv2d_14 (Conv2D)             (None, 56, 56, 256)  590080      ['block3_conv3[1][0]']           \n",
            "                                                                                                  \n",
            " conv2d_15 (Conv2D)             (None, 28, 28, 512)  2359808     ['block4_conv3[1][0]']           \n",
            "                                                                                                  \n",
            " conv2d_16 (Conv2D)             (None, 14, 14, 512)  2359808     ['block5_conv3[1][0]']           \n",
            "                                                                                                  \n",
            " conv2d_transpose_10 (Conv2DTra  (None, 224, 224, 2)  1154       ['conv2d_12[0][0]']              \n",
            " nspose)                                                                                          \n",
            "                                                                                                  \n",
            " conv2d_transpose_11 (Conv2DTra  (None, 224, 224, 2)  2306       ['conv2d_13[0][0]']              \n",
            " nspose)                                                                                          \n",
            "                                                                                                  \n",
            " conv2d_transpose_12 (Conv2DTra  (None, 224, 224, 2)  4610       ['conv2d_14[0][0]']              \n",
            " nspose)                                                                                          \n",
            "                                                                                                  \n",
            " conv2d_transpose_13 (Conv2DTra  (None, 224, 224, 2)  9218       ['conv2d_15[0][0]']              \n",
            " nspose)                                                                                          \n",
            "                                                                                                  \n",
            " conv2d_transpose_14 (Conv2DTra  (None, 224, 224, 2)  9218       ['conv2d_16[0][0]']              \n",
            " nspose)                                                                                          \n",
            "                                                                                                  \n",
            " tf.concat_2 (TFOpLambda)       (None, 224, 224, 10  0           ['conv2d_transpose_10[0][0]',    \n",
            "                                )                                 'conv2d_transpose_11[0][0]',    \n",
            "                                                                  'conv2d_transpose_12[0][0]',    \n",
            "                                                                  'conv2d_transpose_13[0][0]',    \n",
            "                                                                  'conv2d_transpose_14[0][0]']    \n",
            "                                                                                                  \n",
            " conv2d_17 (Conv2D)             (None, 224, 224, 2)  182         ['tf.concat_2[0][0]']            \n",
            "                                                                                                  \n",
            " activation_2 (Activation)      (None, 224, 224, 2)  0           ['conv2d_17[0][0]']              \n",
            "                                                                                                  \n",
            "==================================================================================================\n",
            "Total params: 20,235,584\n",
            "Trainable params: 5,520,896\n",
            "Non-trainable params: 14,714,688\n",
            "__________________________________________________________________________________________________\n",
            "None\n"
          ]
        }
      ]
    },
    {
      "cell_type": "code",
      "source": [
        "model.compile(loss=custom_loss) #need the custom loss because of our weird output"
      ],
      "metadata": {
        "id": "LrKllCEIDKDH"
      },
      "execution_count": null,
      "outputs": []
    },
    {
      "cell_type": "code",
      "source": [
        "from google.colab import drive\n",
        "import glob\n",
        "import numpy as np\n",
        "drive.mount('/content/drive/')"
      ],
      "metadata": {
        "colab": {
          "base_uri": "https://localhost:8080/"
        },
        "id": "DI1uuFQYD59R",
        "outputId": "998b459a-5428-4238-cd4b-1d0ce4c63821"
      },
      "execution_count": null,
      "outputs": [
        {
          "output_type": "stream",
          "name": "stdout",
          "text": [
            "Mounted at /content/drive/\n"
          ]
        }
      ]
    },
    {
      "cell_type": "code",
      "source": [
        "scene_list = set()\n",
        "for file in glob.glob(\"/content/drive/My Drive/east_cropped/*.npy\"):\n",
        "   scene_list.add(file.split('/')[-1].rsplit('_', 1)[0])\n",
        "\n",
        "print(scene_list)\n",
        "print(len(scene_list))"
      ],
      "metadata": {
        "colab": {
          "base_uri": "https://localhost:8080/"
        },
        "id": "AGYP2Cn78wMA",
        "outputId": "56f953ce-7f2e-4350-fdeb-7942f88a54a9"
      },
      "execution_count": null,
      "outputs": [
        {
          "output_type": "stream",
          "name": "stdout",
          "text": [
            "{'LC08_014036_20211130', 'LC08_205032_20211007', 'LC08_008030_20170415', 'LC08_011031_20180423', 'LC08_011032_20200311', 'LC08_009030_20190327', 'LC08_012032_20171020', 'LC08_005029_20200520', 'LC08_011030_20180829', 'LC08_014036_20210404', 'LC08_015037_20171025', 'LC08_205033_20210921', 'LC08_013041_20210413', 'LC08_205032_20171028', 'LC08_205052_20201207', 'LC08_008030_20180824', 'LC08_008030_20190405', 'LC08_013033_20190830', 'LC08_012032_20201129', 'LC08_016038_20200126', 'LC08_011032_20210330', 'LC08_005030_20171019', 'LC08_005028_20170731', 'LC08_015037_20180302', 'LC08_205052_20210108', 'LC08_205033_20201121', 'LC08_205052_20180116', 'LC08_208041_20190225', 'LC08_005030_20190806', 'LC08_009030_20200820', 'LC08_011032_20210226', 'LC08_205033_20171028', 'LC08_011032_20180423', 'LC08_205052_20181218', 'LC08_205033_20190324', 'LC08_205052_20191205', 'LC08_012032_20210321', 'LC08_016039_20180309', 'LC08_205052_20170129', 'LC08_208041_20191226', 'LC08_013033_20171027', 'LC08_205032_20210921', 'LC08_208041_20211231', 'LC08_205052_20210225', 'LC08_006029_20190525', 'LC08_006029_20211005', 'LC08_005029_20171019', 'LC08_009030_20170913', 'LC08_205032_20201121', 'LC08_205033_20211007', 'LC08_205052_20190119', 'LC08_011032_20211109', 'LC08_205052_20171231', 'LC08_016038_20180309', 'LC08_013033_20170418', 'LC08_003028_20170327', 'LC08_205032_20190324', 'LC08_205052_20170302', 'LC08_012032_20200318', 'LC08_011032_20200224', 'LC08_205052_20190409', 'LC08_205052_20170113', 'LC08_014036_20191125', 'LC08_014036_20210927', 'LC08_011031_20210330', 'LC08_015037_20181012', 'LC08_015037_20211020', 'LC08_003028_20210829', 'LC08_013033_20200222', 'LC08_014036_20200417'}\n",
            "70\n"
          ]
        }
      ]
    },
    {
      "cell_type": "code",
      "source": [
        "scene_list = list(scene_list)\n",
        "X_train = np.empty((len(scene_list),224,224,3),dtype=np.float32)\n",
        "Y_train = np.empty((len(scene_list),224,224,2),dtype=np.float32)\n",
        "for scene_num in range(len(scene_list)):\n",
        "  X_train[scene_num] = np.load('/content/drive/My Drive/east_cropped/' + scene_list[scene_num] + '_input.npy')[:,:,1:4]\n",
        "  Y_train[scene_num] = np.load('/content/drive/My Drive/east_cropped/' + scene_list[scene_num] + '_output.npy')"
      ],
      "metadata": {
        "id": "FUNnntrM88IN"
      },
      "execution_count": null,
      "outputs": []
    },
    {
      "cell_type": "code",
      "source": [
        "print(Y_train[0][5][0][0])"
      ],
      "metadata": {
        "colab": {
          "base_uri": "https://localhost:8080/"
        },
        "id": "97z8GuXR95DH",
        "outputId": "4c1ca716-2d90-40e2-a3ae-623b0e3d8394"
      },
      "execution_count": null,
      "outputs": [
        {
          "output_type": "stream",
          "name": "stdout",
          "text": [
            "0.016207993\n"
          ]
        }
      ]
    },
    {
      "cell_type": "code",
      "source": [
        "checkpoint = ModelCheckpoint(\"best_model.hdf5\", monitor='loss', verbose=1, save_best_only=True)\n",
        "\n",
        "history = model.fit(X_train, Y_train, epochs=100, callbacks=[checkpoint])\n",
        "# model.save_weights('/content/drive/My Drive/trained_weights.h5')\n",
        "print(history)"
      ],
      "metadata": {
        "colab": {
          "base_uri": "https://localhost:8080/",
          "height": 1000
        },
        "id": "lieCo_r69_Fc",
        "outputId": "925f7311-e97a-49e7-89b6-d4fd9a60bd44"
      },
      "execution_count": null,
      "outputs": [
        {
          "output_type": "stream",
          "name": "stdout",
          "text": [
            "Epoch 1/100\n",
            "3/3 [==============================] - ETA: 0s - loss: 0.3622 \n",
            "Epoch 00001: loss improved from inf to 0.36220, saving model to best_model.hdf5\n",
            "3/3 [==============================] - 97s 22s/step - loss: 0.3622\n",
            "Epoch 2/100\n",
            "3/3 [==============================] - ETA: 0s - loss: 0.3645 \n",
            "Epoch 00002: loss did not improve from 0.36220\n",
            "3/3 [==============================] - 85s 22s/step - loss: 0.3645\n",
            "Epoch 3/100\n",
            "3/3 [==============================] - ETA: 0s - loss: 0.3627 \n",
            "Epoch 00003: loss did not improve from 0.36220\n",
            "3/3 [==============================] - 82s 22s/step - loss: 0.3627\n",
            "Epoch 4/100\n",
            "3/3 [==============================] - ETA: 0s - loss: 0.3617 \n",
            "Epoch 00004: loss improved from 0.36220 to 0.36170, saving model to best_model.hdf5\n",
            "3/3 [==============================] - 83s 22s/step - loss: 0.3617\n",
            "Epoch 5/100\n",
            "3/3 [==============================] - ETA: 0s - loss: 0.3309 \n",
            "Epoch 00005: loss improved from 0.36170 to 0.33090, saving model to best_model.hdf5\n",
            "3/3 [==============================] - 82s 22s/step - loss: 0.3309\n",
            "Epoch 6/100\n",
            "3/3 [==============================] - ETA: 0s - loss: 0.2511 \n",
            "Epoch 00006: loss improved from 0.33090 to 0.25111, saving model to best_model.hdf5\n",
            "3/3 [==============================] - 82s 22s/step - loss: 0.2511\n",
            "Epoch 7/100\n",
            "3/3 [==============================] - ETA: 0s - loss: nan    \n",
            "Epoch 00007: loss did not improve from 0.25111\n",
            "3/3 [==============================] - 82s 22s/step - loss: nan\n",
            "Epoch 8/100\n",
            "3/3 [==============================] - ETA: 0s - loss: nan \n",
            "Epoch 00008: loss did not improve from 0.25111\n",
            "3/3 [==============================] - 82s 22s/step - loss: nan\n",
            "Epoch 9/100\n",
            "3/3 [==============================] - ETA: 0s - loss: nan \n",
            "Epoch 00009: loss did not improve from 0.25111\n",
            "3/3 [==============================] - 82s 22s/step - loss: nan\n",
            "Epoch 10/100\n"
          ]
        },
        {
          "output_type": "error",
          "ename": "KeyboardInterrupt",
          "evalue": "ignored",
          "traceback": [
            "\u001b[0;31m---------------------------------------------------------------------------\u001b[0m",
            "\u001b[0;31mKeyboardInterrupt\u001b[0m                         Traceback (most recent call last)",
            "\u001b[0;32m<ipython-input-26-30ec2a8c954b>\u001b[0m in \u001b[0;36m<module>\u001b[0;34m()\u001b[0m\n\u001b[1;32m      1\u001b[0m \u001b[0mcheckpoint\u001b[0m \u001b[0;34m=\u001b[0m \u001b[0mModelCheckpoint\u001b[0m\u001b[0;34m(\u001b[0m\u001b[0;34m\"best_model.hdf5\"\u001b[0m\u001b[0;34m,\u001b[0m \u001b[0mmonitor\u001b[0m\u001b[0;34m=\u001b[0m\u001b[0;34m'loss'\u001b[0m\u001b[0;34m,\u001b[0m \u001b[0mverbose\u001b[0m\u001b[0;34m=\u001b[0m\u001b[0;36m1\u001b[0m\u001b[0;34m,\u001b[0m \u001b[0msave_best_only\u001b[0m\u001b[0;34m=\u001b[0m\u001b[0;32mTrue\u001b[0m\u001b[0;34m)\u001b[0m\u001b[0;34m\u001b[0m\u001b[0;34m\u001b[0m\u001b[0m\n\u001b[1;32m      2\u001b[0m \u001b[0;34m\u001b[0m\u001b[0m\n\u001b[0;32m----> 3\u001b[0;31m \u001b[0mhistory\u001b[0m \u001b[0;34m=\u001b[0m \u001b[0mmodel\u001b[0m\u001b[0;34m.\u001b[0m\u001b[0mfit\u001b[0m\u001b[0;34m(\u001b[0m\u001b[0mX_train\u001b[0m\u001b[0;34m,\u001b[0m \u001b[0mY_train\u001b[0m\u001b[0;34m,\u001b[0m \u001b[0mepochs\u001b[0m\u001b[0;34m=\u001b[0m\u001b[0;36m100\u001b[0m\u001b[0;34m,\u001b[0m \u001b[0mcallbacks\u001b[0m\u001b[0;34m=\u001b[0m\u001b[0;34m[\u001b[0m\u001b[0mcheckpoint\u001b[0m\u001b[0;34m]\u001b[0m\u001b[0;34m)\u001b[0m\u001b[0;34m\u001b[0m\u001b[0;34m\u001b[0m\u001b[0m\n\u001b[0m\u001b[1;32m      4\u001b[0m \u001b[0;31m# model.save_weights('/content/drive/My Drive/trained_weights.h5')\u001b[0m\u001b[0;34m\u001b[0m\u001b[0;34m\u001b[0m\u001b[0;34m\u001b[0m\u001b[0m\n\u001b[1;32m      5\u001b[0m \u001b[0mprint\u001b[0m\u001b[0;34m(\u001b[0m\u001b[0mhistory\u001b[0m\u001b[0;34m)\u001b[0m\u001b[0;34m\u001b[0m\u001b[0;34m\u001b[0m\u001b[0m\n",
            "\u001b[0;32m/usr/local/lib/python3.7/dist-packages/keras/utils/traceback_utils.py\u001b[0m in \u001b[0;36merror_handler\u001b[0;34m(*args, **kwargs)\u001b[0m\n\u001b[1;32m     62\u001b[0m     \u001b[0mfiltered_tb\u001b[0m \u001b[0;34m=\u001b[0m \u001b[0;32mNone\u001b[0m\u001b[0;34m\u001b[0m\u001b[0;34m\u001b[0m\u001b[0m\n\u001b[1;32m     63\u001b[0m     \u001b[0;32mtry\u001b[0m\u001b[0;34m:\u001b[0m\u001b[0;34m\u001b[0m\u001b[0;34m\u001b[0m\u001b[0m\n\u001b[0;32m---> 64\u001b[0;31m       \u001b[0;32mreturn\u001b[0m \u001b[0mfn\u001b[0m\u001b[0;34m(\u001b[0m\u001b[0;34m*\u001b[0m\u001b[0margs\u001b[0m\u001b[0;34m,\u001b[0m \u001b[0;34m**\u001b[0m\u001b[0mkwargs\u001b[0m\u001b[0;34m)\u001b[0m\u001b[0;34m\u001b[0m\u001b[0;34m\u001b[0m\u001b[0m\n\u001b[0m\u001b[1;32m     65\u001b[0m     \u001b[0;32mexcept\u001b[0m \u001b[0mException\u001b[0m \u001b[0;32mas\u001b[0m \u001b[0me\u001b[0m\u001b[0;34m:\u001b[0m  \u001b[0;31m# pylint: disable=broad-except\u001b[0m\u001b[0;34m\u001b[0m\u001b[0;34m\u001b[0m\u001b[0m\n\u001b[1;32m     66\u001b[0m       \u001b[0mfiltered_tb\u001b[0m \u001b[0;34m=\u001b[0m \u001b[0m_process_traceback_frames\u001b[0m\u001b[0;34m(\u001b[0m\u001b[0me\u001b[0m\u001b[0;34m.\u001b[0m\u001b[0m__traceback__\u001b[0m\u001b[0;34m)\u001b[0m\u001b[0;34m\u001b[0m\u001b[0;34m\u001b[0m\u001b[0m\n",
            "\u001b[0;32m/usr/local/lib/python3.7/dist-packages/keras/engine/training.py\u001b[0m in \u001b[0;36mfit\u001b[0;34m(self, x, y, batch_size, epochs, verbose, callbacks, validation_split, validation_data, shuffle, class_weight, sample_weight, initial_epoch, steps_per_epoch, validation_steps, validation_batch_size, validation_freq, max_queue_size, workers, use_multiprocessing)\u001b[0m\n\u001b[1;32m   1214\u001b[0m                 _r=1):\n\u001b[1;32m   1215\u001b[0m               \u001b[0mcallbacks\u001b[0m\u001b[0;34m.\u001b[0m\u001b[0mon_train_batch_begin\u001b[0m\u001b[0;34m(\u001b[0m\u001b[0mstep\u001b[0m\u001b[0;34m)\u001b[0m\u001b[0;34m\u001b[0m\u001b[0;34m\u001b[0m\u001b[0m\n\u001b[0;32m-> 1216\u001b[0;31m               \u001b[0mtmp_logs\u001b[0m \u001b[0;34m=\u001b[0m \u001b[0mself\u001b[0m\u001b[0;34m.\u001b[0m\u001b[0mtrain_function\u001b[0m\u001b[0;34m(\u001b[0m\u001b[0miterator\u001b[0m\u001b[0;34m)\u001b[0m\u001b[0;34m\u001b[0m\u001b[0;34m\u001b[0m\u001b[0m\n\u001b[0m\u001b[1;32m   1217\u001b[0m               \u001b[0;32mif\u001b[0m \u001b[0mdata_handler\u001b[0m\u001b[0;34m.\u001b[0m\u001b[0mshould_sync\u001b[0m\u001b[0;34m:\u001b[0m\u001b[0;34m\u001b[0m\u001b[0;34m\u001b[0m\u001b[0m\n\u001b[1;32m   1218\u001b[0m                 \u001b[0mcontext\u001b[0m\u001b[0;34m.\u001b[0m\u001b[0masync_wait\u001b[0m\u001b[0;34m(\u001b[0m\u001b[0;34m)\u001b[0m\u001b[0;34m\u001b[0m\u001b[0;34m\u001b[0m\u001b[0m\n",
            "\u001b[0;32m/usr/local/lib/python3.7/dist-packages/tensorflow/python/util/traceback_utils.py\u001b[0m in \u001b[0;36merror_handler\u001b[0;34m(*args, **kwargs)\u001b[0m\n\u001b[1;32m    148\u001b[0m     \u001b[0mfiltered_tb\u001b[0m \u001b[0;34m=\u001b[0m \u001b[0;32mNone\u001b[0m\u001b[0;34m\u001b[0m\u001b[0;34m\u001b[0m\u001b[0m\n\u001b[1;32m    149\u001b[0m     \u001b[0;32mtry\u001b[0m\u001b[0;34m:\u001b[0m\u001b[0;34m\u001b[0m\u001b[0;34m\u001b[0m\u001b[0m\n\u001b[0;32m--> 150\u001b[0;31m       \u001b[0;32mreturn\u001b[0m \u001b[0mfn\u001b[0m\u001b[0;34m(\u001b[0m\u001b[0;34m*\u001b[0m\u001b[0margs\u001b[0m\u001b[0;34m,\u001b[0m \u001b[0;34m**\u001b[0m\u001b[0mkwargs\u001b[0m\u001b[0;34m)\u001b[0m\u001b[0;34m\u001b[0m\u001b[0;34m\u001b[0m\u001b[0m\n\u001b[0m\u001b[1;32m    151\u001b[0m     \u001b[0;32mexcept\u001b[0m \u001b[0mException\u001b[0m \u001b[0;32mas\u001b[0m \u001b[0me\u001b[0m\u001b[0;34m:\u001b[0m\u001b[0;34m\u001b[0m\u001b[0;34m\u001b[0m\u001b[0m\n\u001b[1;32m    152\u001b[0m       \u001b[0mfiltered_tb\u001b[0m \u001b[0;34m=\u001b[0m \u001b[0m_process_traceback_frames\u001b[0m\u001b[0;34m(\u001b[0m\u001b[0me\u001b[0m\u001b[0;34m.\u001b[0m\u001b[0m__traceback__\u001b[0m\u001b[0;34m)\u001b[0m\u001b[0;34m\u001b[0m\u001b[0;34m\u001b[0m\u001b[0m\n",
            "\u001b[0;32m/usr/local/lib/python3.7/dist-packages/tensorflow/python/eager/def_function.py\u001b[0m in \u001b[0;36m__call__\u001b[0;34m(self, *args, **kwds)\u001b[0m\n\u001b[1;32m    908\u001b[0m \u001b[0;34m\u001b[0m\u001b[0m\n\u001b[1;32m    909\u001b[0m       \u001b[0;32mwith\u001b[0m \u001b[0mOptionalXlaContext\u001b[0m\u001b[0;34m(\u001b[0m\u001b[0mself\u001b[0m\u001b[0;34m.\u001b[0m\u001b[0m_jit_compile\u001b[0m\u001b[0;34m)\u001b[0m\u001b[0;34m:\u001b[0m\u001b[0;34m\u001b[0m\u001b[0;34m\u001b[0m\u001b[0m\n\u001b[0;32m--> 910\u001b[0;31m         \u001b[0mresult\u001b[0m \u001b[0;34m=\u001b[0m \u001b[0mself\u001b[0m\u001b[0;34m.\u001b[0m\u001b[0m_call\u001b[0m\u001b[0;34m(\u001b[0m\u001b[0;34m*\u001b[0m\u001b[0margs\u001b[0m\u001b[0;34m,\u001b[0m \u001b[0;34m**\u001b[0m\u001b[0mkwds\u001b[0m\u001b[0;34m)\u001b[0m\u001b[0;34m\u001b[0m\u001b[0;34m\u001b[0m\u001b[0m\n\u001b[0m\u001b[1;32m    911\u001b[0m \u001b[0;34m\u001b[0m\u001b[0m\n\u001b[1;32m    912\u001b[0m       \u001b[0mnew_tracing_count\u001b[0m \u001b[0;34m=\u001b[0m \u001b[0mself\u001b[0m\u001b[0;34m.\u001b[0m\u001b[0mexperimental_get_tracing_count\u001b[0m\u001b[0;34m(\u001b[0m\u001b[0;34m)\u001b[0m\u001b[0;34m\u001b[0m\u001b[0;34m\u001b[0m\u001b[0m\n",
            "\u001b[0;32m/usr/local/lib/python3.7/dist-packages/tensorflow/python/eager/def_function.py\u001b[0m in \u001b[0;36m_call\u001b[0;34m(self, *args, **kwds)\u001b[0m\n\u001b[1;32m    940\u001b[0m       \u001b[0;31m# In this case we have created variables on the first call, so we run the\u001b[0m\u001b[0;34m\u001b[0m\u001b[0;34m\u001b[0m\u001b[0;34m\u001b[0m\u001b[0m\n\u001b[1;32m    941\u001b[0m       \u001b[0;31m# defunned version which is guaranteed to never create variables.\u001b[0m\u001b[0;34m\u001b[0m\u001b[0;34m\u001b[0m\u001b[0;34m\u001b[0m\u001b[0m\n\u001b[0;32m--> 942\u001b[0;31m       \u001b[0;32mreturn\u001b[0m \u001b[0mself\u001b[0m\u001b[0;34m.\u001b[0m\u001b[0m_stateless_fn\u001b[0m\u001b[0;34m(\u001b[0m\u001b[0;34m*\u001b[0m\u001b[0margs\u001b[0m\u001b[0;34m,\u001b[0m \u001b[0;34m**\u001b[0m\u001b[0mkwds\u001b[0m\u001b[0;34m)\u001b[0m  \u001b[0;31m# pylint: disable=not-callable\u001b[0m\u001b[0;34m\u001b[0m\u001b[0;34m\u001b[0m\u001b[0m\n\u001b[0m\u001b[1;32m    943\u001b[0m     \u001b[0;32melif\u001b[0m \u001b[0mself\u001b[0m\u001b[0;34m.\u001b[0m\u001b[0m_stateful_fn\u001b[0m \u001b[0;32mis\u001b[0m \u001b[0;32mnot\u001b[0m \u001b[0;32mNone\u001b[0m\u001b[0;34m:\u001b[0m\u001b[0;34m\u001b[0m\u001b[0;34m\u001b[0m\u001b[0m\n\u001b[1;32m    944\u001b[0m       \u001b[0;31m# Release the lock early so that multiple threads can perform the call\u001b[0m\u001b[0;34m\u001b[0m\u001b[0;34m\u001b[0m\u001b[0;34m\u001b[0m\u001b[0m\n",
            "\u001b[0;32m/usr/local/lib/python3.7/dist-packages/tensorflow/python/eager/function.py\u001b[0m in \u001b[0;36m__call__\u001b[0;34m(self, *args, **kwargs)\u001b[0m\n\u001b[1;32m   3129\u001b[0m        filtered_flat_args) = self._maybe_define_function(args, kwargs)\n\u001b[1;32m   3130\u001b[0m     return graph_function._call_flat(\n\u001b[0;32m-> 3131\u001b[0;31m         filtered_flat_args, captured_inputs=graph_function.captured_inputs)  # pylint: disable=protected-access\n\u001b[0m\u001b[1;32m   3132\u001b[0m \u001b[0;34m\u001b[0m\u001b[0m\n\u001b[1;32m   3133\u001b[0m   \u001b[0;34m@\u001b[0m\u001b[0mproperty\u001b[0m\u001b[0;34m\u001b[0m\u001b[0;34m\u001b[0m\u001b[0m\n",
            "\u001b[0;32m/usr/local/lib/python3.7/dist-packages/tensorflow/python/eager/function.py\u001b[0m in \u001b[0;36m_call_flat\u001b[0;34m(self, args, captured_inputs, cancellation_manager)\u001b[0m\n\u001b[1;32m   1958\u001b[0m       \u001b[0;31m# No tape is watching; skip to running the function.\u001b[0m\u001b[0;34m\u001b[0m\u001b[0;34m\u001b[0m\u001b[0;34m\u001b[0m\u001b[0m\n\u001b[1;32m   1959\u001b[0m       return self._build_call_outputs(self._inference_function.call(\n\u001b[0;32m-> 1960\u001b[0;31m           ctx, args, cancellation_manager=cancellation_manager))\n\u001b[0m\u001b[1;32m   1961\u001b[0m     forward_backward = self._select_forward_and_backward_functions(\n\u001b[1;32m   1962\u001b[0m         \u001b[0margs\u001b[0m\u001b[0;34m,\u001b[0m\u001b[0;34m\u001b[0m\u001b[0;34m\u001b[0m\u001b[0m\n",
            "\u001b[0;32m/usr/local/lib/python3.7/dist-packages/tensorflow/python/eager/function.py\u001b[0m in \u001b[0;36mcall\u001b[0;34m(self, ctx, args, cancellation_manager)\u001b[0m\n\u001b[1;32m    601\u001b[0m               \u001b[0minputs\u001b[0m\u001b[0;34m=\u001b[0m\u001b[0margs\u001b[0m\u001b[0;34m,\u001b[0m\u001b[0;34m\u001b[0m\u001b[0;34m\u001b[0m\u001b[0m\n\u001b[1;32m    602\u001b[0m               \u001b[0mattrs\u001b[0m\u001b[0;34m=\u001b[0m\u001b[0mattrs\u001b[0m\u001b[0;34m,\u001b[0m\u001b[0;34m\u001b[0m\u001b[0;34m\u001b[0m\u001b[0m\n\u001b[0;32m--> 603\u001b[0;31m               ctx=ctx)\n\u001b[0m\u001b[1;32m    604\u001b[0m         \u001b[0;32melse\u001b[0m\u001b[0;34m:\u001b[0m\u001b[0;34m\u001b[0m\u001b[0;34m\u001b[0m\u001b[0m\n\u001b[1;32m    605\u001b[0m           outputs = execute.execute_with_cancellation(\n",
            "\u001b[0;32m/usr/local/lib/python3.7/dist-packages/tensorflow/python/eager/execute.py\u001b[0m in \u001b[0;36mquick_execute\u001b[0;34m(op_name, num_outputs, inputs, attrs, ctx, name)\u001b[0m\n\u001b[1;32m     57\u001b[0m     \u001b[0mctx\u001b[0m\u001b[0;34m.\u001b[0m\u001b[0mensure_initialized\u001b[0m\u001b[0;34m(\u001b[0m\u001b[0;34m)\u001b[0m\u001b[0;34m\u001b[0m\u001b[0;34m\u001b[0m\u001b[0m\n\u001b[1;32m     58\u001b[0m     tensors = pywrap_tfe.TFE_Py_Execute(ctx._handle, device_name, op_name,\n\u001b[0;32m---> 59\u001b[0;31m                                         inputs, attrs, num_outputs)\n\u001b[0m\u001b[1;32m     60\u001b[0m   \u001b[0;32mexcept\u001b[0m \u001b[0mcore\u001b[0m\u001b[0;34m.\u001b[0m\u001b[0m_NotOkStatusException\u001b[0m \u001b[0;32mas\u001b[0m \u001b[0me\u001b[0m\u001b[0;34m:\u001b[0m\u001b[0;34m\u001b[0m\u001b[0;34m\u001b[0m\u001b[0m\n\u001b[1;32m     61\u001b[0m     \u001b[0;32mif\u001b[0m \u001b[0mname\u001b[0m \u001b[0;32mis\u001b[0m \u001b[0;32mnot\u001b[0m \u001b[0;32mNone\u001b[0m\u001b[0;34m:\u001b[0m\u001b[0;34m\u001b[0m\u001b[0;34m\u001b[0m\u001b[0m\n",
            "\u001b[0;31mKeyboardInterrupt\u001b[0m: "
          ]
        }
      ]
    },
    {
      "cell_type": "code",
      "source": [
        "print(history.params)"
      ],
      "metadata": {
        "colab": {
          "base_uri": "https://localhost:8080/"
        },
        "id": "CCoTOccC-3LH",
        "outputId": "bec2bbc0-6549-47df-b613-294076c04e60"
      },
      "execution_count": null,
      "outputs": [
        {
          "output_type": "stream",
          "name": "stdout",
          "text": [
            "{'verbose': 1, 'epochs': 25, 'steps': 2}\n"
          ]
        }
      ]
    },
    {
      "cell_type": "code",
      "source": [
        "print(history.history.keys())"
      ],
      "metadata": {
        "colab": {
          "base_uri": "https://localhost:8080/"
        },
        "id": "iNP554xILnlh",
        "outputId": "36cfb630-9e5e-49f5-b38a-6ef4094a60ef"
      },
      "execution_count": null,
      "outputs": [
        {
          "output_type": "stream",
          "name": "stdout",
          "text": [
            "dict_keys(['loss'])\n"
          ]
        }
      ]
    },
    {
      "cell_type": "code",
      "source": [
        "print(history.history['loss'])"
      ],
      "metadata": {
        "colab": {
          "base_uri": "https://localhost:8080/"
        },
        "id": "Df8AcuZ6-bAG",
        "outputId": "1e940ab4-b5b9-4d68-9123-286f9205d27e"
      },
      "execution_count": null,
      "outputs": [
        {
          "output_type": "stream",
          "name": "stdout",
          "text": [
            "[0.3096132278442383, 0.1656474620103836, 0.07818718254566193, 0.00244093406945467, 0.04042873531579971, 0.0015509966760873795, 0.0019418841693550348, 0.025605984032154083, 0.002032968681305647, 0.0010171903995797038, 0.0010769999353215098, 0.0007308431668207049, 4.029367119073868e-05, 2.4122680770233274e-05, 2.0411540390341543e-05, 1.82090461748885e-05, 1.6470839909743518e-05, 1.4938166714273393e-05, 1.3560455954575446e-05, 1.2127452464483213e-05, 9.931731256074272e-06, 4.882707344222581e-06, 2.4785963432805147e-06, 1.7243453385162866e-06, 1.3439500889944611e-06, 1.07341008970252e-06, 9.10563528577768e-07, 7.663498422516568e-07, 6.585956953131245e-07, 5.682373398485652e-07, 5.169077326172555e-07, 4.813848022422462e-07, 4.336783945291245e-07, 3.8380755995603977e-07, 3.565952511053183e-07, 3.2618359568914457e-07, 3.1271110856323503e-07, 2.594748877982056e-07, 2.4830865186231676e-07, 2.2302208435576176e-07, 2.139738910500455e-07, 1.7984517342028994e-07, 1.7195367263411754e-07, 1.6469974184474268e-07, 1.582101987196438e-07, 1.371116269410777e-07, 1.2126444914883905e-07, 1.2658452419600508e-07, 9.638848297299774e-08, 9.224757491210767e-08, 8.836497045194847e-08, 8.471737800164192e-08, 8.138508178490156e-08, 7.837893178930244e-08, 7.557333958629897e-08, 7.292626946764358e-08, 7.056551254436272e-08, 6.840215860393073e-08, 6.641407424012868e-08, 4.928185859398582e-08, 6.286545328748616e-08, 3.560625216891822e-08, 4.4561204504134366e-08, 1.7522127748748062e-08, 1.62678581716591e-08, 1.509393321441621e-08, 1.401375371301583e-08, 1.302361596344781e-08, 1.2132435500689098e-08, 1.1310142156162328e-08, 1.0538743211441215e-08, 9.809861367671147e-09, 9.131801981254739e-09, 8.489521974297531e-09, 7.903774523754237e-09, 7.358392117851054e-09, 6.862305834687277e-09, 6.395101781464518e-09, 5.970950844869094e-09, 5.583283613219692e-09, 5.215610610065369e-09, 4.88130558196076e-09, 4.568212474964639e-09, 4.2695078583676604e-09, 4.006198928152571e-09, 3.762815836694244e-09, 3.531219094909943e-09, 3.3104259333782693e-09, 3.104490886585154e-09, 2.9181728145033503e-09, 2.7412982994690083e-09, 2.5722237673164727e-09, 2.42113462611826e-09, 2.280941879817533e-09, 2.149383115934711e-09, 2.0233559272497814e-09, 1.9025758746238353e-09, 1.791159776054485e-09, 1.6884889042501072e-09, 1.5902492656039158e-09]\n"
          ]
        }
      ]
    },
    {
      "cell_type": "code",
      "source": [
        "from matplotlib import pyplot as plt\n",
        "\n",
        "plt.plot(history.history['loss'], label = 'output loss')\n",
        "# plt.plot(history.history['conv2d_transpose_5_loss'], label = 'side loss 1')\n",
        "# plt.plot(history.history['conv2d_transpose_6_loss'], label = 'side loss 2')\n",
        "# plt.plot(history.history['conv2d_transpose_7_loss'], label = 'side loss 3')\n",
        "# plt.plot(history.history['conv2d_transpose_8_loss'], label = 'side loss 4')\n",
        "# plt.plot(history.history['conv2d_transpose_9_loss'], label = 'side loss 5')\n",
        "plt.legend()\n",
        "plt.title('Loss During Training')"
      ],
      "metadata": {
        "colab": {
          "base_uri": "https://localhost:8080/",
          "height": 298
        },
        "id": "dGJbzCX7-eeN",
        "outputId": "bacd173f-2c08-49a2-b911-99031423686d"
      },
      "execution_count": null,
      "outputs": [
        {
          "output_type": "execute_result",
          "data": {
            "text/plain": [
              "Text(0.5, 1.0, 'Loss During Training')"
            ]
          },
          "metadata": {},
          "execution_count": 11
        },
        {
          "output_type": "display_data",
          "data": {
            "image/png": "[encoded data removed]",
            "text/plain": [
              "<Figure size 432x288 with 1 Axes>"
            ]
          },
          "metadata": {
            "needs_background": "light"
          }
        }
      ]
    },
    {
      "cell_type": "code",
      "source": [
        "plt.plot(history.history['conv2d_37_binary_accuracy'], label = 'output accuracy')\n",
        "plt.plot(history.history['conv2d_transpose_5_binary_accuracy'], label = 'side accuracy 1')\n",
        "plt.plot(history.history['conv2d_transpose_6_binary_accuracy'], label = 'side accuracy 2')\n",
        "plt.plot(history.history['conv2d_transpose_7_binary_accuracy'], label = 'side accuracy 3')\n",
        "plt.plot(history.history['conv2d_transpose_8_binary_accuracy'], label = 'side accuracy 4')\n",
        "plt.plot(history.history['conv2d_transpose_9_binary_accuracy'], label = 'side accuracy 5')\n",
        "plt.legend()\n",
        "plt.title('Accuracy During Training')"
      ],
      "metadata": {
        "colab": {
          "base_uri": "https://localhost:8080/",
          "height": 298
        },
        "id": "TyxWmG324HCz",
        "outputId": "059805f8-ec1d-4ddc-9e28-dbaff619582f"
      },
      "execution_count": null,
      "outputs": [
        {
          "output_type": "execute_result",
          "data": {
            "text/plain": [
              "Text(0.5, 1.0, 'Accuracy During Training')"
            ]
          },
          "metadata": {},
          "execution_count": 26
        },
        {
          "output_type": "display_data",
          "data": {
            "image/png": "[encoded data removed]",
            "text/plain": [
              "<Figure size 432x288 with 1 Axes>"
            ]
          },
          "metadata": {
            "needs_background": "light"
          }
        }
      ]
    },
    {
      "cell_type": "code",
      "source": [
        ""
      ],
      "metadata": {
        "id": "6Q0BjL6-5aMG"
      },
      "execution_count": null,
      "outputs": []
    }
  ]
}